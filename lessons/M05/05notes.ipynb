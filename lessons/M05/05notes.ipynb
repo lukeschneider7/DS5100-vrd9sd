{
 "cells": [
  {
   "cell_type": "markdown",
   "id": "f1b196de-fecf-455d-9199-44927a2c282d",
   "metadata": {},
   "source": [
    "## 05 NumPy"
   ]
  },
  {
   "cell_type": "markdown",
   "id": "a1b48380-6ff5-482b-abde-085b905bebad",
   "metadata": {},
   "source": [
    "### NumPy First Steps"
   ]
  },
  {
   "cell_type": "code",
   "execution_count": 3,
   "id": "0b752c02-f939-4332-8321-428bd6e42f6e",
   "metadata": {},
   "outputs": [],
   "source": [
    "import numpy as np #Aliased import\n",
    "data = np.random.randn(2, 3) # Random 2x3 array sampled from random normal dist"
   ]
  },
  {
   "cell_type": "markdown",
   "id": "75117674-3e46-45e4-8ec7-2a7b4bfd4202",
   "metadata": {},
   "source": [
    "### NumPy Continued"
   ]
  },
  {
   "cell_type": "code",
   "execution_count": 18,
   "id": "88ce2025-0db7-4ee2-b926-dfeb840ae9ff",
   "metadata": {},
   "outputs": [
    {
     "name": "stdout",
     "output_type": "stream",
     "text": [
      "[[-1.20655181 -0.14319753  0.99516584]\n",
      " [ 1.13668689  0.8884796  -1.09233134]]\n",
      "0.5782516565361941\n",
      "0.09637527608936569\n"
     ]
    },
    {
     "data": {
      "text/plain": [
       "array([[-1.20655181, -0.14319753,  0.99516584],\n",
       "       [-1.09233134,  0.8884796 ,  1.13668689]])"
      ]
     },
     "execution_count": 18,
     "metadata": {},
     "output_type": "execute_result"
    }
   ],
   "source": [
    "# Array Shape\n",
    "two_by_three = np.random.randn(2, 3)\n",
    "print(two_by_three)\n",
    "print(two_by_three.sum())\n",
    "print(two_by_three.mean())\n",
    "#two_by_three.astype(int)\n",
    "two_by_three.sort()\n",
    "two_by_three"
   ]
  },
  {
   "cell_type": "markdown",
   "id": "3e3917c2-9512-42c7-9fda-affc7af1e0a0",
   "metadata": {},
   "source": [
    "<img src = \"np_functions.png\" width = 600>"
   ]
  },
  {
   "cell_type": "code",
   "execution_count": 48,
   "id": "2f27a8ff-3e35-47d9-a389-7cefeefd9714",
   "metadata": {
    "scrolled": true
   },
   "outputs": [
    {
     "name": "stdout",
     "output_type": "stream",
     "text": [
      "[1 2 4]\n"
     ]
    },
    {
     "data": {
      "text/plain": [
       "array([[1, 3],\n",
       "       [2, 4],\n",
       "       [4, 7]])"
      ]
     },
     "execution_count": 48,
     "metadata": {},
     "output_type": "execute_result"
    }
   ],
   "source": [
    "dummy = np.array([[1,2,4], [3, 4,7]])\n",
    "print(dummy[0]) #first row\n",
    "np.transpose(dummy)"
   ]
  },
  {
   "cell_type": "markdown",
   "id": "32811e56-fb01-4a75-a4e1-84a2beb64cc2",
   "metadata": {},
   "source": [
    "### NumPy timing experiments"
   ]
  },
  {
   "cell_type": "code",
   "execution_count": 20,
   "id": "1f66c046-245a-4a9c-bc14-455c207bad29",
   "metadata": {},
   "outputs": [
    {
     "name": "stderr",
     "output_type": "stream",
     "text": [
      "UsageError: Line magic function `%%timeit` not found.\n"
     ]
    }
   ],
   "source": [
    "# This will time operations\n",
    "%%timeit\n",
    "\n",
    "vals = []\n",
    "imax = 10000\n",
    "for i in range(1, imax+1):\n",
    "    if i % 2 == 1:\n",
    "        i *= -1\n",
    "        vals.append(i)"
   ]
  },
  {
   "cell_type": "markdown",
   "id": "c736b703-14d3-42e7-99cf-1b36ae4912a4",
   "metadata": {},
   "source": [
    "### File I/O"
   ]
  }
 ],
 "metadata": {
  "kernelspec": {
   "display_name": "Python 3 (ipykernel)",
   "language": "python",
   "name": "python3"
  },
  "language_info": {
   "codemirror_mode": {
    "name": "ipython",
    "version": 3
   },
   "file_extension": ".py",
   "mimetype": "text/x-python",
   "name": "python",
   "nbconvert_exporter": "python",
   "pygments_lexer": "ipython3",
   "version": "3.11.7"
  }
 },
 "nbformat": 4,
 "nbformat_minor": 5
}
