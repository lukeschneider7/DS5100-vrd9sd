{
 "cells": [
  {
   "cell_type": "code",
   "execution_count": 5,
   "id": "60af695e-37bd-470c-b263-9ca728fbbfaa",
   "metadata": {},
   "outputs": [
    {
     "name": "stdout",
     "output_type": "stream",
     "text": [
      "runtime: 0.02841782569885254\n",
      "[-1, 2, -3, 4, -5, 6, -7, 8, -9, 10]\n"
     ]
    }
   ],
   "source": [
    "# Exercise 5.1\n",
    "# loop thru integers to 100000 returning list with - odd numbers\n",
    "import time \n",
    "t0 = time.time()\n",
    "list1 = list()\n",
    "\n",
    "for i in range(1,100000):\n",
    "    if i%2==1:\n",
    "        list1.append(-i)\n",
    "    else: \n",
    "        list1.append(i)\n",
    "        \n",
    "print('runtime:', time.time()-t0)\n",
    "print(list1[:10])"
   ]
  },
  {
   "cell_type": "code",
   "execution_count": 15,
   "id": "2791097b-053f-4e44-9703-d5da738e8780",
   "metadata": {},
   "outputs": [
    {
     "name": "stdout",
     "output_type": "stream",
     "text": [
      "runtime: 0.016606807708740234\n",
      "[0, -1, 2, -3, 4, -5, 6, -7, 8, -9]\n"
     ]
    }
   ],
   "source": [
    "# Ex 5.2 - print integers, odds negative faster with l-comp and time\n",
    "# Do the same with a list comprehension\n",
    "t0 = time.time()\n",
    "list2 = [i if i%2==0 else -i for i in range(100000)]\n",
    "print('runtime:', time.time()-t0)\n",
    "print(list2[:10])"
   ]
  },
  {
   "cell_type": "code",
   "execution_count": 41,
   "id": "0dbf5d0c-884b-473c-bf46-747339c6bdda",
   "metadata": {},
   "outputs": [
    {
     "name": "stdout",
     "output_type": "stream",
     "text": [
      "5,5,3,2,4,3,1,2,2,4\n"
     ]
    }
   ],
   "source": [
    "# 5.3 - print elements of array comma seperated\n",
    "import numpy as np\n",
    "list3 = np.random.randint(1, 6, size=10)\n",
    "print(','.join(list3.astype('str')))"
   ]
  },
  {
   "cell_type": "code",
   "execution_count": 68,
   "id": "9abcf63f-adfb-4c46-8ccb-4ffd89ab3b35",
   "metadata": {},
   "outputs": [
    {
     "name": "stdout",
     "output_type": "stream",
     "text": [
      "<class 'numpy.ndarray'>\n",
      "<class 'numpy.ndarray'>\n",
      "[ 1 18 11 17 15]\n"
     ]
    }
   ],
   "source": [
    "# 5.4 - generating number of random integers\n",
    "some_num = np.random.randint(1, 21, size =1)\n",
    "print(type(some_num))\n",
    "five_nums = np.random.randint(1, 21, size =5 )\n",
    "print(type(five_nums))\n",
    "print(five_nums)"
   ]
  },
  {
   "cell_type": "code",
   "execution_count": 70,
   "id": "491fccd6-0200-4b11-91d7-d76882ea12ce",
   "metadata": {},
   "outputs": [
    {
     "data": {
      "text/plain": [
       "(array([1., 0., 0., 0., 0., 1., 0., 0., 1., 2.]),\n",
       " array([ 1. ,  2.7,  4.4,  6.1,  7.8,  9.5, 11.2, 12.9, 14.6, 16.3, 18. ]),\n",
       " <BarContainer object of 10 artists>)"
      ]
     },
     "execution_count": 70,
     "metadata": {},
     "output_type": "execute_result"
    },
    {
     "data": {
      "image/png": "[encoded data removed]",
      "text/plain": [
       "<Figure size 640x480 with 1 Axes>"
      ]
     },
     "metadata": {},
     "output_type": "display_data"
    }
   ],
   "source": [
    "# 5.5 - plotting histogram of array\n",
    "from matplotlib.pyplot import hist\n",
    "hist(five_nums)"
   ]
  },
  {
   "cell_type": "code",
   "execution_count": 78,
   "id": "a26205dd-a8a9-4d8d-9a14-46563ddef235",
   "metadata": {},
   "outputs": [
    {
     "name": "stdout",
     "output_type": "stream",
     "text": [
      "[[-0.21527475 -1.04990109 -1.95528564]\n",
      " [-1.16693201  0.79609227 -0.60268996]]\n"
     ]
    }
   ],
   "source": [
    "# Ex 5.6 - print 2x3 array\n",
    "two_by_three = np.random.randn(2, 3)\n",
    "print(two_by_three)"
   ]
  },
  {
   "cell_type": "code",
   "execution_count": 80,
   "id": "5c6243d5-1dbe-40aa-ad07-e2aac6f0e49d",
   "metadata": {},
   "outputs": [
    {
     "data": {
      "text/plain": [
       "array([[-0.4305495 , -2.09980219, -3.91057129],\n",
       "       [-2.33386402,  1.59218455, -1.20537992]])"
      ]
     },
     "execution_count": 80,
     "metadata": {},
     "output_type": "execute_result"
    }
   ],
   "source": [
    "# Ex 5.7\n",
    "two_by_three * 2"
   ]
  },
  {
   "cell_type": "code",
   "execution_count": 138,
   "id": "35dfeccc-5bc2-46dd-b55d-5be2d63b9b16",
   "metadata": {},
   "outputs": [
    {
     "name": "stdout",
     "output_type": "stream",
     "text": [
      "[[-0.4305495  -2.09980219 -3.91057129]\n",
      " [-2.33386402  1.59218455 -1.20537992]]\n"
     ]
    }
   ],
   "source": [
    "# Ex 5.8 - adding matrix\n",
    "print(two_by_three + two_by_three)\n"
   ]
  },
  {
   "cell_type": "code",
   "execution_count": 106,
   "id": "3b4b1f01-201b-4f38-b2bd-b74ebefbee62",
   "metadata": {},
   "outputs": [
    {
     "name": "stdout",
     "output_type": "stream",
     "text": [
      "[[0. 0. 0. 0.]\n",
      " [0. 0. 0. 0.]]\n"
     ]
    },
    {
     "data": {
      "text/plain": [
       "array([[1., 1., 1., 1.],\n",
       "       [1., 1., 1., 1.]])"
      ]
     },
     "execution_count": 106,
     "metadata": {},
     "output_type": "execute_result"
    }
   ],
   "source": [
    "# Ex 5.10 \n",
    "z1 = np.zeros((2, 4))\n",
    "one1 = np.ones((2, 4))\n",
    "print(z1)\n",
    "one1"
   ]
  },
  {
   "cell_type": "code",
   "execution_count": 118,
   "id": "4efd031d-169c-4fee-985a-a5b74261c4ec",
   "metadata": {},
   "outputs": [
    {
     "data": {
      "text/plain": [
       "array([[1., 0., 0., 0.],\n",
       "       [0., 1., 0., 0.],\n",
       "       [0., 0., 1., 0.],\n",
       "       [0., 0., 0., 1.]])"
      ]
     },
     "execution_count": 118,
     "metadata": {},
     "output_type": "execute_result"
    }
   ],
   "source": [
    "# Ex 5.11  - Identity Matrix\n",
    "identity_matrix = np.identity(4)\n",
    "identity_matrix"
   ]
  },
  {
   "cell_type": "code",
   "execution_count": 126,
   "id": "adc5ef05-2565-41a2-8b4a-b83a8d30f3c6",
   "metadata": {},
   "outputs": [
    {
     "name": "stdout",
     "output_type": "stream",
     "text": [
      "[2 9 5 5]\n",
      "[2 9 5]\n"
     ]
    }
   ],
   "source": [
    "# Ex 5.12 - slicing array\n",
    "vector = np.random.randint(1, 10, size=5)\n",
    "print(vector[1:])\n",
    "print(vector[1:-1])"
   ]
  },
  {
   "cell_type": "code",
   "execution_count": 136,
   "id": "be17306f-431b-4fec-94a1-7668eb22aca7",
   "metadata": {},
   "outputs": [
    {
     "data": {
      "text/plain": [
       "array([9, 5, 5])"
      ]
     },
     "execution_count": 136,
     "metadata": {},
     "output_type": "execute_result"
    }
   ],
   "source": [
    "# 5.13 - Boolean indexing\n",
    "vector[vector > 3] # check array for values greater than 3"
   ]
  }
 ],
 "metadata": {
  "kernelspec": {
   "display_name": "Python 3 (ipykernel)",
   "language": "python",
   "name": "python3"
  },
  "language_info": {
   "codemirror_mode": {
    "name": "ipython",
    "version": 3
   },
   "file_extension": ".py",
   "mimetype": "text/x-python",
   "name": "python",
   "nbconvert_exporter": "python",
   "pygments_lexer": "ipython3",
   "version": "3.11.7"
  }
 },
 "nbformat": 4,
 "nbformat_minor": 5
}
