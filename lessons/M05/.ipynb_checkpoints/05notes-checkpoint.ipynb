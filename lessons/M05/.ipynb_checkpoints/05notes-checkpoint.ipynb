{
 "cells": [
  {
   "cell_type": "markdown",
   "id": "f1b196de-fecf-455d-9199-44927a2c282d",
   "metadata": {},
   "source": [
    "## 05 NumPy"
   ]
  },
  {
   "cell_type": "markdown",
   "id": "a1b48380-6ff5-482b-abde-085b905bebad",
   "metadata": {},
   "source": [
    "### NumPy First Steps"
   ]
  },
  {
   "cell_type": "code",
   "execution_count": 3,
   "id": "0b752c02-f939-4332-8321-428bd6e42f6e",
   "metadata": {},
   "outputs": [],
   "source": [
    "import numpy as np #Aliased import\n",
    "data = np.random.randn(2, 3) # Random 2x3 array sampled from random normal dist"
   ]
  },
  {
   "cell_type": "markdown",
   "id": "75117674-3e46-45e4-8ec7-2a7b4bfd4202",
   "metadata": {},
   "source": [
    "### NumPy Continued"
   ]
  },
  {
   "cell_type": "code",
   "execution_count": 6,
   "id": "88ce2025-0db7-4ee2-b926-dfeb840ae9ff",
   "metadata": {},
   "outputs": [
    {
     "name": "stdout",
     "output_type": "stream",
     "text": [
      "[[ 0.46705974 -1.10117357 -0.50949653]\n",
      " [ 1.81244539  0.47081483  1.03034226]]\n",
      "2.169992124431137\n",
      "0.3616653540718562\n"
     ]
    },
    {
     "data": {
      "text/plain": [
       "array([[-1.10117357, -0.50949653,  0.46705974],\n",
       "       [ 0.47081483,  1.03034226,  1.81244539]])"
      ]
     },
     "execution_count": 6,
     "metadata": {},
     "output_type": "execute_result"
    }
   ],
   "source": [
    "# Array Shape\n",
    "two_by_three = np.random.randn(2, 3)\n",
    "print(two_by_three)\n",
    "print(two_by_three.sum())\n",
    "print(two_by_three.mean())\n",
    "#two_by_three.astype(int)\n",
    "two_by_three.sort()\n",
    "two_by_three"
   ]
  },
  {
   "cell_type": "code",
   "execution_count": null,
   "id": "20440f71-5490-45d1-aca4-720a360c04ae",
   "metadata": {},
   "outputs": [],
   "source": [
    "<img = "
   ]
  },
  {
   "cell_type": "markdown",
   "id": "32811e56-fb01-4a75-a4e1-84a2beb64cc2",
   "metadata": {},
   "source": [
    "### NumPy timing experiments"
   ]
  },
  {
   "cell_type": "code",
   "execution_count": 7,
   "id": "1f66c046-245a-4a9c-bc14-455c207bad29",
   "metadata": {},
   "outputs": [],
   "source": [
    "# This will time operations\n",
    "\n",
    "\n",
    "vals = []\n",
    "imax = 10000\n",
    "for i in range(1, imax+1):\n",
    "    if i % 2 == 1:\n",
    "        i *= -1\n",
    "        vals.append(i)"
   ]
  },
  {
   "cell_type": "markdown",
   "id": "c736b703-14d3-42e7-99cf-1b36ae4912a4",
   "metadata": {},
   "source": [
    "### File I/O"
   ]
  }
 ],
 "metadata": {
  "kernelspec": {
   "display_name": "Python 3 (ipykernel)",
   "language": "python",
   "name": "python3"
  },
  "language_info": {
   "codemirror_mode": {
    "name": "ipython",
    "version": 3
   },
   "file_extension": ".py",
   "mimetype": "text/x-python",
   "name": "python",
   "nbconvert_exporter": "python",
   "pygments_lexer": "ipython3",
   "version": "3.11.7"
  }
 },
 "nbformat": 4,
 "nbformat_minor": 5
}
