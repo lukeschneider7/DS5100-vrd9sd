{
 "cells": [
  {
   "cell_type": "markdown",
   "metadata": {},
   "source": [
    "# Metadata\n",
    "\n",
    "```yaml\n",
    "Course:  DS 5100\n",
    "Module:  06 Pandas\n",
    "Topic:   HW Myocardial Infarction Analytics with Pandas\n",
    "Author:  R.C. Alvarado (adapted)\n",
    "Date:    7 July 2023\n",
    "```"
   ]
  },
  {
   "cell_type": "markdown",
   "metadata": {},
   "source": [
    "# Student Info\n",
    "\n",
    "* Name: Luke Schneider\n",
    "* Net UD: vrd9sd\n",
    "* URL of this file in GitHub: "
   ]
  },
  {
   "cell_type": "markdown",
   "metadata": {},
   "source": [
    "# Instructions\n",
    "\n",
    "In your **private course repo on Rivanna**, use this Jupyter notebook and the data file described to write code that performs the tasks below. \n",
    "\n",
    "Save your notebook in the `M06` directory.\n",
    "\n",
    "Remember to add and commit these files to your repo. \n",
    "\n",
    "Then push your commits to your repo on GitHib.\n",
    "\n",
    "Be sure to fill out the **Student Info** block above.\n",
    "\n",
    "To submit your homework, save the notebook as a PDF and upload it to GradeScope, following the instructions.\n",
    "\n",
    "**TOTAL POINTS: 12**\n"
   ]
  },
  {
   "cell_type": "markdown",
   "metadata": {},
   "source": [
    "# Overview\n",
    "\n",
    "In this homework, you will be working with the Myocardial Infarction (MI) Complications Data Set housed at UCI. \n",
    "\n",
    "A myocardial infarction is commonly called a heart attack. \n",
    "\n",
    "You may Read about the dataset in the [Data Description File (DDF)](https://archive.ics.uci.edu/ml/datasets/Myocardial+infarction+complications#).\n",
    "\n",
    "You will work with some of the columns (aka features). \n",
    "\n",
    "A subset of these could be predictors in an ML model, while others could be outcome variables. \n",
    "\n",
    "The section **Attribute Information** in the DDF provides details."
   ]
  },
  {
   "cell_type": "markdown",
   "metadata": {},
   "source": [
    "# Setting Up"
   ]
  },
  {
   "cell_type": "code",
   "execution_count": 6,
   "metadata": {},
   "outputs": [],
   "source": [
    "import pandas as pd\n",
    "import numpy as np"
   ]
  },
  {
   "cell_type": "markdown",
   "metadata": {
    "tags": []
   },
   "source": [
    "# Prepare the Data \n",
    "\n",
    "Read in the dataset from the UCI Machine Learning Repository.\n",
    "\n",
    "Use Pandas' `read_csv()` function, giving the path to the dataset as an argument.  \n",
    "\n",
    "There is no header in this data, so pass a second argument `header=None`."
   ]
  },
  {
   "cell_type": "code",
   "execution_count": 8,
   "metadata": {},
   "outputs": [],
   "source": [
    "path_to_data = \"http://archive.ics.uci.edu/ml/machine-learning-databases/00579/MI.data\""
   ]
  },
  {
   "cell_type": "markdown",
   "metadata": {},
   "source": [
    "## Task 1\n",
    "\n",
    "(1 PT)\n",
    "\n",
    "Import the data into a datafram and then print the number of records in the dataset"
   ]
  },
  {
   "cell_type": "code",
   "execution_count": 10,
   "metadata": {},
   "outputs": [
    {
     "name": "stdout",
     "output_type": "stream",
     "text": [
      "   0   1    2   3   4   5   6   7   8   9    ... 114 115 116 117 118 119 120  \\\n",
      "0    1  77    1   2   1   1   2   ?   3   0  ...   0   0   0   0   0   0   0   \n",
      "1    2  55    1   1   0   0   0   0   0   0  ...   0   0   0   0   0   0   0   \n",
      "2    3  52    1   0   0   0   2   ?   2   0  ...   0   0   0   0   0   0   0   \n",
      "3    4  68    0   0   0   0   2   ?   2   0  ...   0   0   0   0   0   0   1   \n",
      "4    5  60    1   0   0   0   2   ?   3   0  ...   0   0   0   0   0   0   0   \n",
      "\n",
      "  121 122 123  \n",
      "0   0   0   0  \n",
      "1   0   0   0  \n",
      "2   0   0   0  \n",
      "3   0   0   0  \n",
      "4   0   0   0  \n",
      "\n",
      "[5 rows x 124 columns]\n",
      "Number of Records: 1700\n"
     ]
    }
   ],
   "source": [
    "# CODE HERE\n",
    "# Task 1 - Answer\n",
    "data = pd.read_csv(path_to_data, header=None)\n",
    "print(data.head())\n",
    "print(f'Number of Records: {len(data)}')"
   ]
  },
  {
   "cell_type": "markdown",
   "metadata": {},
   "source": [
    "## Task 2\n",
    "\n",
    "(1 PT)\n",
    "\n",
    "Show the first three records in the dataset</span>"
   ]
  },
  {
   "cell_type": "code",
   "execution_count": 12,
   "metadata": {},
   "outputs": [
    {
     "name": "stdout",
     "output_type": "stream",
     "text": [
      "   0   1    2   3   4   5   6   7   8   9    ... 114 115 116 117 118 119 120  \\\n",
      "0    1  77    1   2   1   1   2   ?   3   0  ...   0   0   0   0   0   0   0   \n",
      "1    2  55    1   1   0   0   0   0   0   0  ...   0   0   0   0   0   0   0   \n",
      "2    3  52    1   0   0   0   2   ?   2   0  ...   0   0   0   0   0   0   0   \n",
      "\n",
      "  121 122 123  \n",
      "0   0   0   0  \n",
      "1   0   0   0  \n",
      "2   0   0   0  \n",
      "\n",
      "[3 rows x 124 columns]\n"
     ]
    }
   ],
   "source": [
    "# CODE HERE\n",
    "# Task 2 - Response \n",
    "print(data.head(3)) # Show the first three records in the dataset"
   ]
  },
  {
   "cell_type": "markdown",
   "metadata": {},
   "source": [
    "# Working with AGE\n",
    "\n",
    "The second column contains patient age. \n",
    "\n",
    "If your dataframe is named `df`, you can reference the column with: `df[1]`.\n",
    "\n",
    "Generally the field names will be strings and you can use `df['age']` to access field `age`, as an example)."
   ]
  },
  {
   "cell_type": "markdown",
   "metadata": {},
   "source": [
    "## Task 3\n",
    "\n",
    "(1 PT)\n",
    "\n",
    "One complication: missing values are filled with `?` which will cause problems (e.g., stats can't be computed easily). \n",
    "\n",
    "Count the number of records in `df[1]` containing `?`."
   ]
  },
  {
   "cell_type": "code",
   "execution_count": 15,
   "metadata": {},
   "outputs": [
    {
     "name": "stdout",
     "output_type": "stream",
     "text": [
      "8\n"
     ]
    }
   ],
   "source": [
    "# CODE HERE - Task 3 Response\n",
    "count = data[1].value_counts().get('?') #count number of ?\n",
    "print(count)"
   ]
  },
  {
   "cell_type": "markdown",
   "metadata": {},
   "source": [
    "## Task 4 \n",
    "\n",
    "(1 PT)\n",
    "\n",
    "Replace `'?'` with `np.nan` in the age column."
   ]
  },
  {
   "cell_type": "code",
   "execution_count": 17,
   "metadata": {},
   "outputs": [],
   "source": [
    "# CODE HERE - Replace ? with null values\n",
    "data[1].replace('?', np.nan, inplace=True)\n"
   ]
  },
  {
   "cell_type": "markdown",
   "metadata": {},
   "source": [
    "## Task 5\n",
    "\n",
    "(1 PT)\n",
    "\n",
    "Print the number of records containing `np.nan` in the column `df[1]` of your dataframe."
   ]
  },
  {
   "cell_type": "code",
   "execution_count": 19,
   "metadata": {},
   "outputs": [
    {
     "name": "stdout",
     "output_type": "stream",
     "text": [
      "8\n"
     ]
    }
   ],
   "source": [
    "# CODE HERE - count np.nan\n",
    "count_nan = data[1].isna().sum() # \n",
    "print(count_nan)"
   ]
  },
  {
   "cell_type": "markdown",
   "metadata": {},
   "source": [
    "# Another complication\n",
    "\n",
    "Another complication: the age data is saved as strings, and there are the null values. \n",
    "\n",
    "Here's an example:\n",
    "\n",
    "```python\n",
    "# inspect first element\n",
    "df[1].iloc[0]\n",
    "\n",
    "'77'\n",
    "```\n",
    "\n",
    "```python\n",
    "# check the column type\n",
    "df[1].dtype\n",
    "\n",
    "dtype('O')\n",
    "\n",
    "```\n",
    "\n",
    "To convert the column to numeric, we can use `apply()` with a lambda function.  \n",
    "\n",
    "If the type is string, we cast to numeric, e.g. `float` or `int`, otherwise it's null and we leave things alone.  \n",
    "\n",
    "`isinstance(x, str)` checks if `x` is a string, returning a bool.  \n",
    "\n",
    "Review this code for understanding:\n",
    "\n",
    "```python\n",
    "df[1] = df[1].apply(lambda x: float(x) if isinstance(x, str) else x)\n",
    "```"
   ]
  },
  {
   "cell_type": "markdown",
   "metadata": {
    "tags": []
   },
   "source": [
    "# Task 6\n",
    "\n",
    "(1 PT)\n",
    "\n",
    "Run the lambda function above, then show the data type of `age` is no longer string type."
   ]
  },
  {
   "cell_type": "code",
   "execution_count": 22,
   "metadata": {},
   "outputs": [
    {
     "data": {
      "text/plain": [
       "dtype('float64')"
      ]
     },
     "execution_count": 22,
     "metadata": {},
     "output_type": "execute_result"
    }
   ],
   "source": [
    "# CODE HERE - Convert column 1 data type to float\n",
    "data[1] = data[1].apply(lambda x: float(x) if isinstance(x, str) else x)\n",
    "data[1].dtype"
   ]
  },
  {
   "cell_type": "markdown",
   "metadata": {},
   "source": [
    "# Task 7\n",
    "\n",
    "(1 PT)\n",
    "\n",
    "Compute the median age."
   ]
  },
  {
   "cell_type": "code",
   "execution_count": 24,
   "metadata": {},
   "outputs": [
    {
     "name": "stdout",
     "output_type": "stream",
     "text": [
      "63.0\n"
     ]
    }
   ],
   "source": [
    "# CODE HERE - 7.compute median age\n",
    "median = data[1].median()\n",
    "print(median)"
   ]
  },
  {
   "cell_type": "markdown",
   "metadata": {},
   "source": [
    "# Working with GENDER\n",
    "\n",
    "The third column contains patient gender.\n",
    "\n",
    "Again, since indexing starts at zero, you'll reference `df[2]`."
   ]
  },
  {
   "cell_type": "markdown",
   "metadata": {},
   "source": [
    "# Task 8\n",
    "\n",
    "(1 PT)\n",
    "\n",
    "Print the frequency AND percentage of each gender.\n",
    "\n",
    "Hint: The function you'll use to compute frequencies will take an argument to compute normalized values, which may be converted to percentages."
   ]
  },
  {
   "cell_type": "code",
   "execution_count": 75,
   "metadata": {},
   "outputs": [
    {
     "name": "stdout",
     "output_type": "stream",
     "text": [
      "Num Males: 1065\t  Num Females: 635\n",
      "Percentage males: 62.647%\t Percentage Females: 37.353%\n"
     ]
    }
   ],
   "source": [
    "# CODE HERE - \n",
    "count_male = data[2].value_counts().get(1)\n",
    "count_female = data[2].value_counts().get(0)\n",
    "print(f'Num Males: {count_male}\\t  Num Females: {count_female}')\n",
    "print(f'Percentage males: {round(100*count_male/(count_male+count_female), 3)}%\\t Percentage Females: {round(100*count_female/(count_male+count_female),3)}%')\n"
   ]
  },
  {
   "cell_type": "markdown",
   "metadata": {},
   "source": [
    "# Working with Essential Hypertension (EH)\n",
    "\n",
    "Reference this column with `df[8]`. "
   ]
  },
  {
   "cell_type": "markdown",
   "metadata": {},
   "source": [
    "# Task 9\n",
    "\n",
    "(1 PT)\n",
    "\n",
    "Enter the most frequent value."
   ]
  },
  {
   "cell_type": "code",
   "execution_count": 159,
   "metadata": {
    "editable": true,
    "slideshow": {
     "slide_type": ""
    },
    "tags": []
   },
   "outputs": [
    {
     "name": "stdout",
     "output_type": "stream",
     "text": [
      "Most freq EH value: 0\n",
      "Most freq count: 880 \n",
      "\n",
      "880\n",
      "605\n",
      "195\n",
      "11\n",
      "9\n"
     ]
    },
    {
     "name": "stderr",
     "output_type": "stream",
     "text": [
      "/var/folders/95/w1686fhn34zczpnrnccjxvgh0000gn/T/ipykernel_61080/1986006245.py:4: FutureWarning: Series.__getitem__ treating keys as positions is deprecated. In a future version, integer keys will always be treated as labels (consistent with DataFrame behavior). To access a value by position, use `ser.iloc[pos]`\n",
      "  current = data[8].value_counts().get(i)\n",
      "/var/folders/95/w1686fhn34zczpnrnccjxvgh0000gn/T/ipykernel_61080/1986006245.py:4: FutureWarning: Series.__getitem__ treating keys as positions is deprecated. In a future version, integer keys will always be treated as labels (consistent with DataFrame behavior). To access a value by position, use `ser.iloc[pos]`\n",
      "  current = data[8].value_counts().get(i)\n",
      "/var/folders/95/w1686fhn34zczpnrnccjxvgh0000gn/T/ipykernel_61080/1986006245.py:4: FutureWarning: Series.__getitem__ treating keys as positions is deprecated. In a future version, integer keys will always be treated as labels (consistent with DataFrame behavior). To access a value by position, use `ser.iloc[pos]`\n",
      "  current = data[8].value_counts().get(i)\n",
      "/var/folders/95/w1686fhn34zczpnrnccjxvgh0000gn/T/ipykernel_61080/1986006245.py:4: FutureWarning: Series.__getitem__ treating keys as positions is deprecated. In a future version, integer keys will always be treated as labels (consistent with DataFrame behavior). To access a value by position, use `ser.iloc[pos]`\n",
      "  current = data[8].value_counts().get(i)\n",
      "/var/folders/95/w1686fhn34zczpnrnccjxvgh0000gn/T/ipykernel_61080/1986006245.py:4: FutureWarning: Series.__getitem__ treating keys as positions is deprecated. In a future version, integer keys will always be treated as labels (consistent with DataFrame behavior). To access a value by position, use `ser.iloc[pos]`\n",
      "  current = data[8].value_counts().get(i)\n",
      "/var/folders/95/w1686fhn34zczpnrnccjxvgh0000gn/T/ipykernel_61080/1986006245.py:13: FutureWarning: Series.__getitem__ treating keys as positions is deprecated. In a future version, integer keys will always be treated as labels (consistent with DataFrame behavior). To access a value by position, use `ser.iloc[pos]`\n",
      "  print(data[8].value_counts().get(0))\n",
      "/var/folders/95/w1686fhn34zczpnrnccjxvgh0000gn/T/ipykernel_61080/1986006245.py:14: FutureWarning: Series.__getitem__ treating keys as positions is deprecated. In a future version, integer keys will always be treated as labels (consistent with DataFrame behavior). To access a value by position, use `ser.iloc[pos]`\n",
      "  print(data[8].value_counts().get(1))\n",
      "/var/folders/95/w1686fhn34zczpnrnccjxvgh0000gn/T/ipykernel_61080/1986006245.py:15: FutureWarning: Series.__getitem__ treating keys as positions is deprecated. In a future version, integer keys will always be treated as labels (consistent with DataFrame behavior). To access a value by position, use `ser.iloc[pos]`\n",
      "  print(data[8].value_counts().get(2))\n",
      "/var/folders/95/w1686fhn34zczpnrnccjxvgh0000gn/T/ipykernel_61080/1986006245.py:16: FutureWarning: Series.__getitem__ treating keys as positions is deprecated. In a future version, integer keys will always be treated as labels (consistent with DataFrame behavior). To access a value by position, use `ser.iloc[pos]`\n",
      "  print(data[8].value_counts().get(3))\n",
      "/var/folders/95/w1686fhn34zczpnrnccjxvgh0000gn/T/ipykernel_61080/1986006245.py:17: FutureWarning: Series.__getitem__ treating keys as positions is deprecated. In a future version, integer keys will always be treated as labels (consistent with DataFrame behavior). To access a value by position, use `ser.iloc[pos]`\n",
      "  print(data[8].value_counts().get(4))\n"
     ]
    }
   ],
   "source": [
    "# CODE HERE - Most common essential Hypertension value\n",
    "most_freq_count = 0\n",
    "for i in range(5):\n",
    "    current = data[8].value_counts().get(i)\n",
    "    if current > most_freq_count:\n",
    "        most_freq_count = current \n",
    "        most_freq_val = i\n",
    "\n",
    "print(f'Most freq EH value: { most_freq_val}')\n",
    "print(f'Most freq count: {most_freq_count} \\n')\n",
    "\n",
    "# Check Work using DDF as reference\n",
    "print(data[8].value_counts().get(0))\n",
    "print(data[8].value_counts().get(1))\n",
    "print(data[8].value_counts().get(2))\n",
    "print(data[8].value_counts().get(3))\n",
    "print(data[8].value_counts().get(4))\n"
   ]
  },
  {
   "cell_type": "markdown",
   "metadata": {},
   "source": [
    "# Working with Atrial Fibrillation (AFIB)\n",
    "\n",
    "Reference this column with `df[112]`.  \n",
    "\n",
    "AFIB is one of the complications and outcomes of myocardial infarction."
   ]
  },
  {
   "cell_type": "markdown",
   "metadata": {
    "tags": []
   },
   "source": [
    "# Task 10\n",
    "\n",
    "(1 PT)\n",
    "\n",
    "Print the number of AFIB cases. \n",
    "\n",
    "Note that 1 means there is a case."
   ]
  },
  {
   "cell_type": "code",
   "execution_count": 169,
   "metadata": {},
   "outputs": [
    {
     "name": "stdout",
     "output_type": "stream",
     "text": [
      "Number of AFIB cases: 170\n"
     ]
    }
   ],
   "source": [
    "# CODE HERE - Print number of AFIB cases \n",
    "number_AFIB = len(data[data[112]==1])\n",
    "print(f'Number of AFIB cases: {number_AFIB}')"
   ]
  },
  {
   "cell_type": "markdown",
   "metadata": {},
   "source": [
    "# Combining Age and AFIB"
   ]
  },
  {
   "cell_type": "markdown",
   "metadata": {},
   "source": [
    "# Task 11\n",
    "\n",
    "(1 PT)\n",
    "\n",
    "Construct a new dataframe `df2` containing only the columns for AGE and AFIB.\n",
    "\n",
    "Recall that AGE is in `df[1]` and AFIB is in `df[112]`.\n",
    "\n",
    "Print the shape of this dataframe.\n",
    "\n",
    "Hint: you can pass a list of column names to the dataframe indexer to get a dataframe with a subset of columns."
   ]
  },
  {
   "cell_type": "code",
   "execution_count": 198,
   "metadata": {},
   "outputs": [
    {
     "name": "stdout",
     "output_type": "stream",
     "text": [
      "<bound method NDFrame.head of        1    122\n",
      "0     77.0    0\n",
      "1     55.0    0\n",
      "2     52.0    0\n",
      "3     68.0    0\n",
      "4     60.0    0\n",
      "...    ...  ...\n",
      "1695  77.0    0\n",
      "1696  70.0    0\n",
      "1697  55.0    0\n",
      "1698  79.0    0\n",
      "1699  63.0    0\n",
      "\n",
      "[1700 rows x 2 columns]>\n",
      "\n",
      "\n",
      "Shape: (1700, 2)\n"
     ]
    }
   ],
   "source": [
    "# CODE HERE - new DataFrame from old one \n",
    "df2 = data.iloc[:, [1,122]] # Use .iloc to select columns by index position\n",
    "print(df2.head)\n",
    "print(f'\\n\\nShape: {df2.shape}')"
   ]
  },
  {
   "cell_type": "markdown",
   "metadata": {},
   "source": [
    "# Plotting"
   ]
  },
  {
   "cell_type": "markdown",
   "metadata": {},
   "source": [
    "We are going to plot AGE and AFIB, so renaming the columns to strings will make our visualization more readable.  \n",
    "\n",
    "You can rename columns using the dataframe `.rename()` method, which takes a dictionary as an argument of the form:\n",
    "\n",
    "```python\n",
    "{\n",
    "    current_column_name1: new_column_name1,\n",
    "    ...\n",
    "    current_column_nameN: new_column_nameN\n",
    "}\n",
    "```\n",
    "\n",
    "Rename column `1` to  `'age'` and `2` to `'AFIB'` for `df2`."
   ]
  },
  {
   "cell_type": "code",
   "execution_count": 224,
   "metadata": {},
   "outputs": [
    {
     "data": {
      "text/html": [
       "<div>\n",
       "<style scoped>\n",
       "    .dataframe tbody tr th:only-of-type {\n",
       "        vertical-align: middle;\n",
       "    }\n",
       "\n",
       "    .dataframe tbody tr th {\n",
       "        vertical-align: top;\n",
       "    }\n",
       "\n",
       "    .dataframe thead th {\n",
       "        text-align: right;\n",
       "    }\n",
       "</style>\n",
       "<table border=\"1\" class=\"dataframe\">\n",
       "  <thead>\n",
       "    <tr style=\"text-align: right;\">\n",
       "      <th></th>\n",
       "      <th>age</th>\n",
       "      <th>AFIB</th>\n",
       "    </tr>\n",
       "  </thead>\n",
       "  <tbody>\n",
       "    <tr>\n",
       "      <th>0</th>\n",
       "      <td>77.0</td>\n",
       "      <td>0</td>\n",
       "    </tr>\n",
       "    <tr>\n",
       "      <th>1</th>\n",
       "      <td>55.0</td>\n",
       "      <td>0</td>\n",
       "    </tr>\n",
       "    <tr>\n",
       "      <th>2</th>\n",
       "      <td>52.0</td>\n",
       "      <td>0</td>\n",
       "    </tr>\n",
       "    <tr>\n",
       "      <th>3</th>\n",
       "      <td>68.0</td>\n",
       "      <td>0</td>\n",
       "    </tr>\n",
       "    <tr>\n",
       "      <th>4</th>\n",
       "      <td>60.0</td>\n",
       "      <td>0</td>\n",
       "    </tr>\n",
       "  </tbody>\n",
       "</table>\n",
       "</div>"
      ],
      "text/plain": [
       "    age  AFIB\n",
       "0  77.0     0\n",
       "1  55.0     0\n",
       "2  52.0     0\n",
       "3  68.0     0\n",
       "4  60.0     0"
      ]
     },
     "execution_count": 224,
     "metadata": {},
     "output_type": "execute_result"
    }
   ],
   "source": [
    "# CODE HERE - Rename Columns\n",
    "df2 = df2.rename(columns = {\n",
    "        1: 'age',\n",
    "        2: 'AFIB'\n",
    "})\n",
    "\n",
    "df2.head()"
   ]
  },
  {
   "cell_type": "markdown",
   "metadata": {},
   "source": [
    "# Task 12\n",
    "\n",
    "(1 PT)\n",
    "\n",
    "Dispplay a boxplot with AFIB on the x-axis and Age on the y-axis</span> \n",
    "\n",
    "Use the the `boxplot()` function from the `seaborn` package for this.\n",
    "            \n",
    "Here is the [documentation](https://seaborn.pydata.org/generated/seaborn.boxplot.html), but all you need to do is this:\n",
    "\n",
    "```python\n",
    "from seaborn import boxplot\n",
    "```"
   ]
  },
  {
   "cell_type": "code",
   "execution_count": 233,
   "metadata": {},
   "outputs": [
    {
     "data": {
      "text/plain": [
       "<Axes: xlabel='AFIB', ylabel='age'>"
      ]
     },
     "execution_count": 233,
     "metadata": {},
     "output_type": "execute_result"
    },
    {
     "data": {
      "image/png": "[encoded data removed]",
      "text/plain": [
       "<Figure size 640x480 with 1 Axes>"
      ]
     },
     "metadata": {},
     "output_type": "display_data"
    }
   ],
   "source": [
    "# CODE HERE - Plotting AGE and AFIB\n",
    "from seaborn import boxplot\n",
    "boxplot(data=df2, x='AFIB', y='age')"
   ]
  },
  {
   "cell_type": "markdown",
   "metadata": {},
   "source": [
    "Ungraded question: What do you notice about the difference in age distributions between AFIB and non-AFIB groups?"
   ]
  },
  {
   "cell_type": "markdown",
   "metadata": {},
   "source": [
    "* Very Few people who have AFIB (1) were very young or very old -> this leads me to believe kids dont get it, and healthy people who live long lives also dont get it very frequently"
   ]
  },
  {
   "cell_type": "code",
   "execution_count": null,
   "metadata": {},
   "outputs": [],
   "source": []
  }
 ],
 "metadata": {
  "kernelspec": {
   "display_name": "Python 3 (ipykernel)",
   "language": "python",
   "name": "python3"
  },
  "language_info": {
   "codemirror_mode": {
    "name": "ipython",
    "version": 3
   },
   "file_extension": ".py",
   "mimetype": "text/x-python",
   "name": "python",
   "nbconvert_exporter": "python",
   "pygments_lexer": "ipython3",
   "version": "3.11.7"
  },
  "vscode": {
   "interpreter": {
    "hash": "c3b963de08c47c3b6758389c5e0978ad73698a111eb508d4e16b558edb8f4cbf"
   }
  },
  "widgets": {
   "application/vnd.jupyter.widget-state+json": {
    "state": {},
    "version_major": 2,
    "version_minor": 0
   }
  }
 },
 "nbformat": 4,
 "nbformat_minor": 4
}
