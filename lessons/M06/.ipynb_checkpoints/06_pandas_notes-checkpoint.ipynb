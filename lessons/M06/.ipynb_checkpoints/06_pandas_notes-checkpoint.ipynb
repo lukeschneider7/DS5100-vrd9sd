{
 "cells": [
  {
   "cell_type": "code",
   "execution_count": 1,
   "id": "91be379f-e1de-4d38-82b0-458363e4cb87",
   "metadata": {},
   "outputs": [],
   "source": [
    "#O6: NumPy Module"
   ]
  },
  {
   "cell_type": "markdown",
   "id": "9cb627cd-a95b-4df5-b953-4f171215253d",
   "metadata": {},
   "source": [
    "### Introducing Pandas\n",
    "* dataframes are built on a number of series objects\n",
    "* pandas df have indexes unlike the R dataframes\n",
    "* Pandas is wrapper for numpy and matplotlib, slower but easier to use\n",
    "* row index is axis 0, column index is axis 1"
   ]
  },
  {
   "cell_type": "code",
   "execution_count": 77,
   "id": "3ea5546c-ded4-4abb-89ab-bd39926a6dad",
   "metadata": {},
   "outputs": [
    {
     "name": "stdout",
     "output_type": "stream",
     "text": [
      "   x  y      z\n",
      "0  0  1   True\n",
      "1  2  1  False\n",
      "2  1  0  False\n",
      "3  5  0  False\n",
      "      x  y\n",
      "row1  9  3\n",
      "row2  1  2\n",
      "row3  4  6\n",
      "0     True\n",
      "1    False\n",
      "2    False\n",
      "3    False\n",
      "Name: z, dtype: bool\n"
     ]
    }
   ],
   "source": [
    "# Data Frame Constructor\n",
    "import pandas as pd\n",
    "import numpy as np\n",
    "\n",
    "df = pd.DataFrame({\n",
    "    'x': [0, 2, 1, 5], \n",
    "    'y': [1, 1, 0, 0], \n",
    "    'z': [True, False, False, False]\n",
    "})\n",
    "print(df)\n",
    "\n",
    "# DF constructor using i, column and data as list of list\n",
    "df3 = pd.DataFrame(\n",
    "    columns=['x','y'], \n",
    "    index=['row1','row2','row3'], \n",
    "    data=[[9,3],[1,2],[4,6]])\n",
    "print(df3)\n",
    "\n",
    "# Dot notation is supported\n",
    "print(df.z)"
   ]
  },
  {
   "cell_type": "code",
   "execution_count": 79,
   "id": "13373681-0f03-42e9-be51-e5a6a89d1052",
   "metadata": {},
   "outputs": [
    {
     "name": "stdout",
     "output_type": "stream",
     "text": [
      "   x  y\n",
      "0  0  1\n",
      "1  2  1\n",
      "\n",
      "      x  y\n",
      "row1  9  3\n",
      "row2  1  2\n",
      "   y      z\n",
      "0  1   True\n",
      "1  1  False\n",
      "2  0  False\n"
     ]
    }
   ],
   "source": [
    "# Filtering (rows) and selecting (columns)\n",
    "\n",
    "# Using .iloc to go by index\n",
    "print(f'{df.iloc[0:2, 0:2]}\\n')\n",
    "\n",
    "# Using .loc to by row (index) name and column name\n",
    "print(df3.loc[['row1', 'row2'], ['x', 'y']])\n",
    "print(df.loc[0:2, ['y', 'z']])\n"
   ]
  },
  {
   "cell_type": "code",
   "execution_count": 84,
   "id": "370dce59-b68c-4db6-9700-b1b7aa5cdc5b",
   "metadata": {},
   "outputs": [
    {
     "name": "stdout",
     "output_type": "stream",
     "text": [
      "     x    y\n",
      "0  2.0  NaN\n",
      "1  NaN  NaN\n",
      "2  1.0  6.0\n",
      "     x    y\n",
      "2  1.0  6.0\n"
     ]
    }
   ],
   "source": [
    "# Working with Missing data\n",
    "df_miss = pd.DataFrame({\n",
    "    'x': [2, np.nan, 1], \n",
    "    'y': [np.nan, np.nan, 6]}\n",
    ")\n",
    "print(df_miss)\n",
    "\n",
    "df_drop_all = df_miss.dropna()\n",
    "print(df_drop_all)"
   ]
  },
  {
   "cell_type": "markdown",
   "id": "28633b83-1a80-4efd-ba83-0be8a6738a53",
   "metadata": {},
   "source": [
    "### Narrow vs Wide Tabels\n",
    "* "
   ]
  },
  {
   "cell_type": "markdown",
   "id": "172f8590-0399-4d13-9e8c-94cd86e2fb60",
   "metadata": {},
   "source": [
    "### Method Chaining"
   ]
  },
  {
   "cell_type": "markdown",
   "id": "64e50a44-6920-4484-a0b0-1bc8ff34f48b",
   "metadata": {},
   "source": [
    "### Pandas and SQL"
   ]
  },
  {
   "cell_type": "code",
   "execution_count": null,
   "id": "311a4fcd-df03-4621-bfba-269a8911475a",
   "metadata": {},
   "outputs": [],
   "source": []
  }
 ],
 "metadata": {
  "kernelspec": {
   "display_name": "Python 3 (ipykernel)",
   "language": "python",
   "name": "python3"
  },
  "language_info": {
   "codemirror_mode": {
    "name": "ipython",
    "version": 3
   },
   "file_extension": ".py",
   "mimetype": "text/x-python",
   "name": "python",
   "nbconvert_exporter": "python",
   "pygments_lexer": "ipython3",
   "version": "3.11.7"
  }
 },
 "nbformat": 4,
 "nbformat_minor": 5
}
