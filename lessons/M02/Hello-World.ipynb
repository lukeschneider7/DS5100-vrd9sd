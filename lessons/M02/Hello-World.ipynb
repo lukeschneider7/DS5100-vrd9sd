{
 "cells": [
  {
   "cell_type": "code",
   "execution_count": 1,
   "id": "4f2864fa-f699-4fec-a7fa-68fd321b95af",
   "metadata": {
    "tags": []
   },
   "outputs": [
    {
     "name": "stdout",
     "output_type": "stream",
     "text": [
      "Hello World!\n"
     ]
    }
   ],
   "source": [
    "print(\"Hello World!\")"
   ]
  },
  {
   "cell_type": "code",
   "execution_count": 1,
   "id": "27321bb7-bf9c-486d-9bc5-caa0dac3ad62",
   "metadata": {},
   "outputs": [
    {
     "name": "stdout",
     "output_type": "stream",
     "text": [
      "11\n",
      "kim\n",
      "orn\n"
     ]
    }
   ],
   "source": [
    "# Exercise 2.1\n",
    "company = \"kimley horn\"\n",
    "print(len(company))\n",
    "print(company[0:3])\n",
    "print(company[-3:])"
   ]
  },
  {
   "cell_type": "code",
   "execution_count": 2,
   "id": "43d2609f-a90d-4070-b303-53dd5076edb2",
   "metadata": {
    "tags": []
   },
   "outputs": [
    {
     "name": "stdout",
     "output_type": "stream",
     "text": [
      "3\n"
     ]
    }
   ],
   "source": [
    "# Exercise 2.2\n",
    "three_val_list = [\"yes\", 3, \"no\"]\n",
    "print(three_val_list[1])\n",
    "three_val_list.pop()\n",
    "three_val_list.append(\"no\")"
   ]
  },
  {
   "cell_type": "code",
   "execution_count": 3,
   "id": "7e1a82e8-4036-498f-b5a1-591e8826fa25",
   "metadata": {
    "tags": []
   },
   "outputs": [
    {
     "name": "stdout",
     "output_type": "stream",
     "text": [
      "(2, '+', 5)\n"
     ]
    }
   ],
   "source": [
    "#Ex 2.3\n",
    "new_tup = (2, \"+\", 5)\n",
    "#new_tup.append('7')\n",
    "print(new_tup)"
   ]
  },
  {
   "cell_type": "code",
   "execution_count": null,
   "id": "11389081-3c98-4d25-bebc-6d4045b181e5",
   "metadata": {},
   "outputs": [],
   "source": [
    "#Ex 2.4\n",
    "x = 4\n",
    "second_set = set({2, 3, 4})\n",
    "x in second_set"
   ]
  }
 ],
 "metadata": {
  "kernelspec": {
   "display_name": "Python 3 (ipykernel)",
   "language": "python",
   "name": "python3"
  },
  "language_info": {
   "codemirror_mode": {
    "name": "ipython",
    "version": 3
   },
   "file_extension": ".py",
   "mimetype": "text/x-python",
   "name": "python",
   "nbconvert_exporter": "python",
   "pygments_lexer": "ipython3",
   "version": "3.11.4"
  }
 },
 "nbformat": 4,
 "nbformat_minor": 5
}
