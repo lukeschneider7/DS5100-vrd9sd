{
 "cells": [
  {
   "cell_type": "markdown",
   "id": "d49a7939-0b56-4446-a7da-a80208a54ccc",
   "metadata": {},
   "source": [
    "# Hwk 2 for DS5100"
   ]
  },
  {
   "cell_type": "markdown",
   "id": "6796f33d-a380-4f2b-b9d0-486288e71e1a",
   "metadata": {},
   "source": [
    "* Name: Luke Schneider\n",
    "* Net ID: vrd9sd\n",
    "* Url of file on github: "
   ]
  },
  {
   "cell_type": "code",
   "execution_count": 3,
   "id": "e366f757-9ee6-46f8-bd0a-bb7c6a8d5bef",
   "metadata": {
    "tags": []
   },
   "outputs": [
    {
     "name": "stdout",
     "output_type": "stream",
     "text": [
      "{'Jon': 95, 'Mike': 84, 'Jaime': 99}\n"
     ]
    }
   ],
   "source": [
    "# Task 1\n",
    "gradebook = {\"Jon\": 95,\n",
    "            \"Mike\": 84,\n",
    "            \"Jaime\": 99}\n",
    "print(gradebook)\n",
    "                  "
   ]
  },
  {
   "cell_type": "code",
   "execution_count": 4,
   "id": "c04e5e29-9d8f-4d85-9ae6-bd55c9bd95f5",
   "metadata": {
    "tags": []
   },
   "outputs": [
    {
     "name": "stdout",
     "output_type": "stream",
     "text": [
      "84\n"
     ]
    }
   ],
   "source": [
    "# Task 2\n",
    "print(gradebook[\"Mike\"])"
   ]
  },
  {
   "cell_type": "code",
   "execution_count": 5,
   "id": "d7585ae5-02da-437e-8599-0a0ba71b4764",
   "metadata": {
    "tags": []
   },
   "outputs": [
    {
     "ename": "NameError",
     "evalue": "name 'gradeboook' is not defined",
     "output_type": "error",
     "traceback": [
      "\u001b[0;31m---------------------------------------------------------------------------\u001b[0m",
      "\u001b[0;31mNameError\u001b[0m                                 Traceback (most recent call last)",
      "Cell \u001b[0;32mIn[5], line 2\u001b[0m\n\u001b[1;32m      1\u001b[0m \u001b[38;5;66;03m# Task 3\u001b[39;00m\n\u001b[0;32m----> 2\u001b[0m \u001b[38;5;28mprint\u001b[39m(\u001b[43mgradeboook\u001b[49m[\u001b[38;5;124m'\u001b[39m\u001b[38;5;124mJeff\u001b[39m\u001b[38;5;124m'\u001b[39m])\n",
      "\u001b[0;31mNameError\u001b[0m: name 'gradeboook' is not defined"
     ]
    }
   ],
   "source": [
    "# Task 3\n",
    "print(gradeboook['Jeff'])"
   ]
  },
  {
   "cell_type": "code",
   "execution_count": 7,
   "id": "558d8f8e-ecf9-4649-8b46-091143990402",
   "metadata": {
    "tags": []
   },
   "outputs": [
    {
     "name": "stdout",
     "output_type": "stream",
     "text": [
      "['Alex', 'Patrick', 'Tom', 'Joe', 'Alex']\n"
     ]
    }
   ],
   "source": [
    "# Task 4\n",
    "names = ['Alex', 'Patrick', 'Tom', 'Joe', 'Alex']\n",
    "print(names)"
   ]
  },
  {
   "cell_type": "code",
   "execution_count": 8,
   "id": "74873c30-6e24-43a8-b136-32aae8c683b8",
   "metadata": {
    "tags": []
   },
   "outputs": [
    {
     "name": "stdout",
     "output_type": "stream",
     "text": [
      "['Alex', 'Alex', 'Joe', 'Patrick', 'Tom']\n"
     ]
    }
   ],
   "source": [
    "# Task 5\n",
    "names.sort()\n",
    "print(names)"
   ]
  },
  {
   "cell_type": "code",
   "execution_count": 9,
   "id": "a270a0e5-e68c-4785-8274-afc6f7816d1b",
   "metadata": {
    "tags": []
   },
   "outputs": [
    {
     "name": "stdout",
     "output_type": "stream",
     "text": [
      "{'Joe', 'Patrick', 'Alex', 'Tom'}\n"
     ]
    }
   ],
   "source": [
    "# Task 6\n",
    "name_set = set(names)\n",
    "print(name_set)\n"
   ]
  },
  {
   "cell_type": "code",
   "execution_count": 11,
   "id": "c7a5b01b-742d-424f-bea0-8deeee0e37eb",
   "metadata": {
    "tags": []
   },
   "outputs": [
    {
     "name": "stdout",
     "output_type": "stream",
     "text": [
      "{'Joe': 3, 'Alex': [1, 2], 'Tom': 1, 'Patrick': 4}\n"
     ]
    }
   ],
   "source": [
    "# Task 7\n",
    "td = {\"Joe\": 3,\n",
    "      \"Alex\": [1, 2],\n",
    "      'Tom': 1,\n",
    "      'Patrick': 4}\n",
    "print(td)\n",
    "      "
   ]
  },
  {
   "cell_type": "code",
   "execution_count": 12,
   "id": "46483366-fbd8-4a95-8954-f595888257a3",
   "metadata": {
    "tags": []
   },
   "outputs": [
    {
     "name": "stdout",
     "output_type": "stream",
     "text": [
      "3\n"
     ]
    }
   ],
   "source": [
    "# Task 8 \n",
    "print(sum(td['Alex']))"
   ]
  },
  {
   "cell_type": "code",
   "execution_count": 17,
   "id": "bc4c2935-9137-4b50-b368-8a7fb21dbca8",
   "metadata": {
    "tags": []
   },
   "outputs": [
    {
     "name": "stdout",
     "output_type": "stream",
     "text": [
      "['Joe', 'Alex', 'Tom', 'Patrick']\n",
      "{'Joe', 'Patrick', 'Alex', 'Tom'}\n"
     ]
    },
    {
     "data": {
      "text/plain": [
       "False"
      ]
     },
     "execution_count": 17,
     "metadata": {},
     "output_type": "execute_result"
    }
   ],
   "source": [
    "# Task 9\n",
    "list1 = list(td.keys())\n",
    "list2 = set(names)\n",
    "print(list1)\n",
    "print(list2)\n",
    "list1 == list2"
   ]
  },
  {
   "cell_type": "code",
   "execution_count": null,
   "id": "14a7e698-eee9-4163-af12-f027c2f1f0d5",
   "metadata": {},
   "outputs": [],
   "source": []
  }
 ],
 "metadata": {
  "kernelspec": {
   "display_name": "Python 3 (ipykernel)",
   "language": "python",
   "name": "python3"
  },
  "language_info": {
   "codemirror_mode": {
    "name": "ipython",
    "version": 3
   },
   "file_extension": ".py",
   "mimetype": "text/x-python",
   "name": "python",
   "nbconvert_exporter": "python",
   "pygments_lexer": "ipython3",
   "version": "3.11.4"
  }
 },
 "nbformat": 4,
 "nbformat_minor": 5
}
