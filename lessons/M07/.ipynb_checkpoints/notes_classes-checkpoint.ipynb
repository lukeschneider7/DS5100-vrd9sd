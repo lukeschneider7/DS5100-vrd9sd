{
 "cells": [
  {
   "cell_type": "code",
   "execution_count": 1,
   "id": "4233f373-e2cb-4ad5-9924-eb78178146fb",
   "metadata": {},
   "outputs": [],
   "source": [
    "# 7. Python Classes Notes\n",
    "# OOP - Object Oriented Programming"
   ]
  },
  {
   "cell_type": "markdown",
   "id": "685e9978-8862-40c5-9a4f-97b47b0c1374",
   "metadata": {},
   "source": [
    "* Objects are instances of abstract classes\n",
    "### Classes have three fundamental Properties:\n",
    "* Encapsulation - own scope, data, logic\n",
    "* Inheritance - can inherit ancestor attributes\n",
    "* Polymorphism - methods can perform differently based on args passed"
   ]
  },
  {
   "cell_type": "markdown",
   "id": "ccbc7387-6063-49c0-a81e-51fdb91b5c4f",
   "metadata": {},
   "source": [
    "### Classes"
   ]
  },
  {
   "cell_type": "code",
   "execution_count": 5,
   "id": "58d2b8bc-75ee-49ea-b96c-c45fb003d89e",
   "metadata": {},
   "outputs": [],
   "source": [
    "class Ferrari458: # name \n",
    "    \"\"\"This is a Ferrari 458 object\"\"\" #doc\n",
    "    cylinders = 8 # attribute\n",
    "\n",
    "    def print_origin(self): # method\n",
    "        return 'I was built in Italy!' \n"
   ]
  },
  {
   "cell_type": "code",
   "execution_count": 11,
   "id": "a46a45bb-345e-4fe7-b27e-c6f34b6af52d",
   "metadata": {},
   "outputs": [
    {
     "name": "stdout",
     "output_type": "stream",
     "text": [
      "8\n"
     ]
    },
    {
     "data": {
      "text/plain": [
       "'I was built in Italy!'"
      ]
     },
     "execution_count": 11,
     "metadata": {},
     "output_type": "execute_result"
    }
   ],
   "source": [
    "# Instance of class\n",
    "my_ferrari = Ferrari458() # Instantiation\n",
    "print(my_ferrari.cylinders) # object attribute \n",
    "my_ferrari.print_origin() # call class method"
   ]
  },
  {
   "cell_type": "markdown",
   "id": "fa71eb69-32fd-4525-8ebd-641ab5bc92d5",
   "metadata": {},
   "source": [
    "print(Ferrari458.__doc__) # print doc\n",
    "help(Ferrari458) # help on class"
   ]
  },
  {
   "cell_type": "markdown",
   "id": "9536b94e-36e7-4c4b-9c6e-7998d1ad43bd",
   "metadata": {},
   "source": [
    "### The .__init__() Method"
   ]
  },
  {
   "cell_type": "code",
   "execution_count": 30,
   "id": "2f49c232-7e95-4d92-9840-7bdb0f0b0c3f",
   "metadata": {},
   "outputs": [
    {
     "name": "stdout",
     "output_type": "stream",
     "text": [
      "bridgestone\n",
      "bridgestone\n"
     ]
    },
    {
     "data": {
      "text/plain": [
       "4"
      ]
     },
     "execution_count": 30,
     "metadata": {},
     "output_type": "execute_result"
    }
   ],
   "source": [
    "class toyota_sienna:\n",
    "    \"\"\"this is a toyota sienna object\"\"\"\n",
    "    cylinders = 4\n",
    "    \n",
    "    def __init__(self, tires):\n",
    "        self.tires = tires\n",
    "\n",
    "    def print_origin(self):\n",
    "        return \"I was built in Japan!\"\n",
    "        \n",
    "    def get_tire_brand(self):\n",
    "        return self.tires\n",
    "\n",
    "my_car = toyota_sienna('bridgestone') # Instantiation\n",
    "print(my_car.tires) # Access instance attribute\n",
    "print(my_car.get_tire_brand())# Call accessor method\n",
    "my_car.cylinders # Access Class attribute \n"
   ]
  },
  {
   "cell_type": "code",
   "execution_count": 47,
   "id": "5f2d10bf-5147-45da-9b1a-3c5d813e46df",
   "metadata": {},
   "outputs": [
    {
     "name": "stdout",
     "output_type": "stream",
     "text": [
      "['jack', 'luke']\n",
      "2\n",
      "73\n"
     ]
    },
    {
     "data": {
      "text/plain": [
       "73"
      ]
     },
     "execution_count": 47,
     "metadata": {},
     "output_type": "execute_result"
    }
   ],
   "source": [
    "class cambridge_apt:\n",
    "    \"\"\"this is a toyota sienna object\"\"\"\n",
    "    rooms = 2\n",
    "    bathrooms = 2\n",
    "    \n",
    "    def __init__(self, roomates, temp):\n",
    "        self.tenants = roomates\n",
    "        self.temp = temp\n",
    "        \n",
    "    def print_lease_agency(self):\n",
    "        return \"I was leased by msc!\"\n",
    "        \n",
    "    def get_roomates(self):\n",
    "        return self.roomates\n",
    "        \n",
    "    def get_temp(self):\n",
    "        return self.temp\n",
    "        \n",
    "my_apt = cambridge_apt(['jack', 'luke'], 73)\n",
    "print(my_apt.tenants) # access instance attribute\n",
    "print(my_apt.rooms) # access class attribute\n",
    "print(my_apt.temp) # Access instance attribute\n",
    "my_apt.get_temp() # Call accessor method"
   ]
  },
  {
   "cell_type": "markdown",
   "id": "855213a4-2fcc-4fa3-8d32-9f25a862211f",
   "metadata": {},
   "source": [
    "### Classes Anatomy\n",
    "* can put classes in .py and import in other scripts\n",
    "* can put more than one in a file\n",
    "* classes written camel case, instances not\n",
    "* When saving:\n",
    "    * If one class, use lower case name of class in filename\n",
    "    * if two or more classes use a package name for the classes"
   ]
  },
  {
   "cell_type": "markdown",
   "id": "42f7a561-c994-4444-b742-1475e8678366",
   "metadata": {},
   "source": [
    "### Python class syntax\n",
    "* Methods prefix a verb i.e. do_something(), get_something()\n",
    "* _private_method(self) # private method"
   ]
  },
  {
   "cell_type": "markdown",
   "id": "ac8c3deb-b697-4672-8515-28507de425de",
   "metadata": {},
   "source": [
    "### Static Classes\n",
    "* dont have instance methods, no self, used to store helper functions\n"
   ]
  },
  {
   "cell_type": "code",
   "execution_count": 57,
   "id": "831c9cdc-86ac-4e63-9762-507a20d6114e",
   "metadata": {},
   "outputs": [
    {
     "name": "stdout",
     "output_type": "stream",
     "text": [
      "33\n"
     ]
    },
    {
     "ename": "TypeError",
     "evalue": "StaticClass.square_me() takes 1 positional argument but 2 were given",
     "output_type": "error",
     "traceback": [
      "\u001b[0;31m---------------------------------------------------------------------------\u001b[0m",
      "\u001b[0;31mTypeError\u001b[0m                                 Traceback (most recent call last)",
      "Cell \u001b[0;32mIn[57], line 13\u001b[0m\n\u001b[1;32m     11\u001b[0m \u001b[38;5;28mprint\u001b[39m(StaticClass\u001b[38;5;241m.\u001b[39madd_these(\u001b[38;5;241m16\u001b[39m, \u001b[38;5;241m17\u001b[39m))\n\u001b[1;32m     12\u001b[0m sc \u001b[38;5;241m=\u001b[39m StaticClass() \n\u001b[0;32m---> 13\u001b[0m sc\u001b[38;5;241m.\u001b[39msquare_me(\u001b[38;5;241m7\u001b[39m)\n",
      "\u001b[0;31mTypeError\u001b[0m: StaticClass.square_me() takes 1 positional argument but 2 were given"
     ]
    }
   ],
   "source": [
    "class StaticClass():\n",
    "\n",
    "    def add_these(*nums):\n",
    "        sum = 0\n",
    "        for num in nums: sum += num\n",
    "        return sum\n",
    "    \n",
    "    def square_me(x):\n",
    "        return x**2\n",
    "\n",
    "print(StaticClass.add_these(16, 17))\n",
    "sc = StaticClass() \n",
    "sc.square_me(7) # This will not work "
   ]
  },
  {
   "cell_type": "markdown",
   "id": "3b7625dd-782f-4e0a-b4a7-8df3fe26c31e",
   "metadata": {},
   "source": [
    "### Classes as Data Structures"
   ]
  },
  {
   "cell_type": "code",
   "execution_count": 70,
   "id": "995c91b7-d183-4172-8209-c0c7d4542f2b",
   "metadata": {},
   "outputs": [
    {
     "name": "stdout",
     "output_type": "stream",
     "text": [
      "22\n",
      "sienna\n"
     ]
    },
    {
     "data": {
      "text/plain": [
       "84700.0"
      ]
     },
     "execution_count": 70,
     "metadata": {},
     "output_type": "execute_result"
    }
   ],
   "source": [
    "class MyData:\n",
    "    age = 22\n",
    "    name = 'luke'\n",
    "    car = 'sienna'\n",
    "    salary = lambda x: x * 1.1\n",
    "\n",
    "print(MyData.age)\n",
    "print(MyData.car)\n",
    "MyData.salary(77000) # Call lambda function attribute"
   ]
  },
  {
   "cell_type": "code",
   "execution_count": null,
   "id": "9fbf97e7-c164-4282-9c9c-8d0a45bf9928",
   "metadata": {},
   "outputs": [],
   "source": []
  }
 ],
 "metadata": {
  "kernelspec": {
   "display_name": "Python 3 (ipykernel)",
   "language": "python",
   "name": "python3"
  },
  "language_info": {
   "codemirror_mode": {
    "name": "ipython",
    "version": 3
   },
   "file_extension": ".py",
   "mimetype": "text/x-python",
   "name": "python",
   "nbconvert_exporter": "python",
   "pygments_lexer": "ipython3",
   "version": "3.11.7"
  }
 },
 "nbformat": 4,
 "nbformat_minor": 5
}
