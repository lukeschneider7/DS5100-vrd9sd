{
 "cells": [
  {
   "cell_type": "code",
   "execution_count": 34,
   "id": "6f86cb6b-b4d9-4c45-95ef-05f9878fca1a",
   "metadata": {},
   "outputs": [
    {
     "name": "stdout",
     "output_type": "stream",
     "text": [
      "foo fighters\n"
     ]
    }
   ],
   "source": [
    " # 7.1\n",
    "class MyClass:\n",
    "    \"\"\" Examples class for Ex 7.1\"\"\"\n",
    "    att1 = 'foo'\n",
    "    \n",
    "    def __init__(self, att2):\n",
    "        self.att2 = att2\n",
    "\n",
    "    def add(self):\n",
    "        concat = self.att1 + ' ' + self.att2\n",
    "        print(concat)\n",
    "\n",
    "instance = MyClass('fighters')\n",
    "instance.add()"
   ]
  },
  {
   "cell_type": "code",
   "execution_count": 38,
   "id": "9a7ab808-fc60-4488-a81c-a91f6905ed32",
   "metadata": {},
   "outputs": [
    {
     "name": "stdout",
     "output_type": "stream",
     "text": [
      "foo\n",
      "fighters were a band\n",
      "foo fighters were a band\n"
     ]
    }
   ],
   "source": [
    " # 7.2\n",
    "instance = MyClass('fighters were a band')\n",
    "print(instance.att1)\n",
    "print(instance.att2)\n",
    "instance.add()"
   ]
  },
  {
   "cell_type": "code",
   "execution_count": 56,
   "id": "a6bbe94a-6d7f-4a88-8e05-74afbf7d80a2",
   "metadata": {
    "editable": true,
    "slideshow": {
     "slide_type": ""
    },
    "tags": []
   },
   "outputs": [
    {
     "data": {
      "image/png": "[encoded data removed]",
      "text/plain": [
       "<Figure size 640x480 with 1 Axes>"
      ]
     },
     "metadata": {},
     "output_type": "display_data"
    }
   ],
   "source": [
    " # 7.3\n",
    "import pandas as pd\n",
    "\n",
    "class Student:\n",
    "    \"\"\"Contains student's grades for a given class\"\"\"\n",
    "\n",
    "    def __init__(self, full_name, user_id):\n",
    "        self.name = full_name\n",
    "        self.id = user_id\n",
    "        self.grades = pd.Series(dtype=float)\n",
    "\n",
    "    def add(self, assignment, grade):\n",
    "        self.grades.loc[assignment] = grade\n",
    "        \n",
    "    def plot(self):\n",
    "        self.grades.plot.bar(title = f' grades for {self.name} {self.id}')\n"
   ]
  },
  {
   "cell_type": "code",
   "execution_count": 62,
   "id": "b4bf4494-e8c3-4ca3-850a-bc91c89f4954",
   "metadata": {},
   "outputs": [
    {
     "data": {
      "image/png": "[encoded data removed]",
      "text/plain": [
       "<Figure size 640x480 with 1 Axes>"
      ]
     },
     "metadata": {},
     "output_type": "display_data"
    }
   ],
   "source": [
    " # 7.4\n",
    "luke = Student('luke', 'vrd9sd')\n",
    "luke.add('hw01', 72)\n",
    "luke.add('hw02', 98)\n",
    "luke.add('hw03', 90)\n",
    "luke.add('hw04', 84)\n",
    "luke.plot()\n"
   ]
  },
  {
   "cell_type": "code",
   "execution_count": 82,
   "id": "449487a2-ffcf-4860-9417-6a9a2f87a7db",
   "metadata": {},
   "outputs": [
    {
     "name": "stdout",
     "output_type": "stream",
     "text": [
      "Not Enough Space\n"
     ]
    },
    {
     "data": {
      "text/plain": [
       "False"
      ]
     },
     "execution_count": 82,
     "metadata": {},
     "output_type": "execute_result"
    }
   ],
   "source": [
    "# 7.4 \n",
    "class V3: \n",
    "    \"\"\"Define and use a class that instantiates a cloud server\"\"\"\n",
    "    def __init__(self, size, num_vcpus, memory, disk_space):\n",
    "        if size == 'small' or size == 'medium' or size == 'large':\n",
    "            self.size = size\n",
    "        else:\n",
    "            print(\"size can only be small, medium, large\")\n",
    "        self.num_vcpus = int(num_vcpus)\n",
    "        self.memory = int(memory)\n",
    "        self.disk_space = float(disk_space)\n",
    "\n",
    "    def add_disk_space(self, amt_to_add):\n",
    "        self.disk_space += amt_to_add\n",
    "        \n",
    "    def has_enough_disk_space(self, amt_required):\n",
    "        if amt_required <  self.disk_space:\n",
    "            print('Enough Space')\n",
    "            return True\n",
    "        else:\n",
    "            print('Not Enough Space')\n",
    "            return False"
   ]
  },
  {
   "cell_type": "code",
   "execution_count": 84,
   "id": "72dc853f-0896-49d1-8d8a-6a51bec28c8c",
   "metadata": {},
   "outputs": [
    {
     "name": "stdout",
     "output_type": "stream",
     "text": [
      "Not Enough Space\n"
     ]
    },
    {
     "data": {
      "text/plain": [
       "False"
      ]
     },
     "execution_count": 84,
     "metadata": {},
     "output_type": "execute_result"
    }
   ],
   "source": [
    " # 7.5 - Use V3 class\n",
    "cloud_server = V3('large', 32, 256, 1)\n",
    "cloud_server.add_disk_space(2.0)\n",
    "cloud_server.has_enough_disk_space(10)\n",
    "    "
   ]
  },
  {
   "cell_type": "code",
   "execution_count": 118,
   "id": "75ac907f-a2c9-4661-b51c-764dd1666020",
   "metadata": {},
   "outputs": [
    {
     "name": "stdout",
     "output_type": "stream",
     "text": [
      "28.274333882308138\n",
      "18.84955592153876\n"
     ]
    }
   ],
   "source": [
    " # 7.6 - Circle Class\n",
    "from math import pi\n",
    "class Circle:\n",
    "    def __init__(self, r):\n",
    "        self.radius = r\n",
    "        \n",
    "    def comp_area(self):\n",
    "        self.area = (self.radius**2)*pi\n",
    "        print(self.area)\n",
    "        \n",
    "    def comp_circum(self):\n",
    "        self.circum = (2*pi*self.radius)\n",
    "        print(self.circum)\n",
    "\n",
    "big = Circle(3)\n",
    "big.comp_area()\n",
    "big.comp_circum()"
   ]
  },
  {
   "cell_type": "code",
   "execution_count": 17,
   "id": "e22b6226-4cf9-46d6-a0f1-c396a1c423f1",
   "metadata": {},
   "outputs": [],
   "source": [
    " # 7.7\n",
    "class Rectangle:\n",
    "    \n",
    "    def __init__(self, length, width):\n",
    "        self.length = length\n",
    "        self.width = width\n",
    "        \n",
    "    def private_area(self):\n",
    "        self._area = self.length * self.width # private attribute has '_' preceding it\n",
    "\n",
    "    def return_area(self):\n",
    "        return self._area\n",
    "\n",
    "square = Rectangle(2, 4)\n",
    "square.private_area()\n",
    "square.return_area()"
   ]
  },
  {
   "cell_type": "code",
   "execution_count": 29,
   "id": "001279bf-5520-43e7-84fd-04d98a9502e4",
   "metadata": {},
   "outputs": [
    {
     "name": "stdout",
     "output_type": "stream",
     "text": [
      "8\n"
     ]
    }
   ],
   "source": [
    " # 7.8\n",
    "class staticGeometry():\n",
    "    \n",
    "    def comp_area(x, y):\n",
    "        return x*y\n",
    "\n",
    "print(staticGeometry.comp_area(2, 4))"
   ]
  },
  {
   "cell_type": "code",
   "execution_count": null,
   "id": "49ce9490-f984-44fb-a075-362a67ff8cf6",
   "metadata": {},
   "outputs": [],
   "source": [
    "# 7.9"
   ]
  },
  {
   "cell_type": "code",
   "execution_count": null,
   "id": "2cd276dc-3817-4dc4-8167-b4b9ef1b5374",
   "metadata": {},
   "outputs": [],
   "source": [
    " # 7.10"
   ]
  },
  {
   "cell_type": "code",
   "execution_count": null,
   "id": "d2368c11-d5ea-4f5f-8014-85d1f7c74d67",
   "metadata": {},
   "outputs": [],
   "source": [
    " # 7.11"
   ]
  }
 ],
 "metadata": {
  "kernelspec": {
   "display_name": "Python 3 (ipykernel)",
   "language": "python",
   "name": "python3"
  },
  "language_info": {
   "codemirror_mode": {
    "name": "ipython",
    "version": 3
   },
   "file_extension": ".py",
   "mimetype": "text/x-python",
   "name": "python",
   "nbconvert_exporter": "python",
   "pygments_lexer": "ipython3",
   "version": "3.11.7"
  }
 },
 "nbformat": 4,
 "nbformat_minor": 5
}
