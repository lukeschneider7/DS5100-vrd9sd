{
 "cells": [
  {
   "cell_type": "code",
   "execution_count": null,
   "id": "6f86cb6b-b4d9-4c45-95ef-05f9878fca1a",
   "metadata": {},
   "outputs": [],
   "source": [
    " # 7.1"
   ]
  },
  {
   "cell_type": "code",
   "execution_count": null,
   "id": "9a7ab808-fc60-4488-a81c-a91f6905ed32",
   "metadata": {},
   "outputs": [],
   "source": [
    " # 7.2"
   ]
  },
  {
   "cell_type": "code",
   "execution_count": null,
   "id": "a6bbe94a-6d7f-4a88-8e05-74afbf7d80a2",
   "metadata": {},
   "outputs": [],
   "source": [
    " # 7.3"
   ]
  },
  {
   "cell_type": "code",
   "execution_count": null,
   "id": "b4bf4494-e8c3-4ca3-850a-bc91c89f4954",
   "metadata": {},
   "outputs": [],
   "source": [
    " # 7.4"
   ]
  },
  {
   "cell_type": "code",
   "execution_count": null,
   "id": "72dc853f-0896-49d1-8d8a-6a51bec28c8c",
   "metadata": {},
   "outputs": [],
   "source": [
    " # 7.5"
   ]
  },
  {
   "cell_type": "code",
   "execution_count": null,
   "id": "75ac907f-a2c9-4661-b51c-764dd1666020",
   "metadata": {},
   "outputs": [],
   "source": [
    " # 7.6"
   ]
  },
  {
   "cell_type": "code",
   "execution_count": null,
   "id": "e22b6226-4cf9-46d6-a0f1-c396a1c423f1",
   "metadata": {},
   "outputs": [],
   "source": [
    " # 7.7"
   ]
  },
  {
   "cell_type": "code",
   "execution_count": null,
   "id": "115f1ec1-bb02-43c4-88e0-883e55ca45be",
   "metadata": {},
   "outputs": [],
   "source": [
    " # 7.8"
   ]
  },
  {
   "cell_type": "code",
   "execution_count": null,
   "id": "001279bf-5520-43e7-84fd-04d98a9502e4",
   "metadata": {},
   "outputs": [],
   "source": [
    " # 7.9"
   ]
  },
  {
   "cell_type": "code",
   "execution_count": null,
   "id": "2cd276dc-3817-4dc4-8167-b4b9ef1b5374",
   "metadata": {},
   "outputs": [],
   "source": [
    " # 7.10"
   ]
  },
  {
   "cell_type": "code",
   "execution_count": null,
   "id": "d2368c11-d5ea-4f5f-8014-85d1f7c74d67",
   "metadata": {},
   "outputs": [],
   "source": [
    " # 7.11"
   ]
  }
 ],
 "metadata": {
  "kernelspec": {
   "display_name": "Python 3 (ipykernel)",
   "language": "python",
   "name": "python3"
  },
  "language_info": {
   "codemirror_mode": {
    "name": "ipython",
    "version": 3
   },
   "file_extension": ".py",
   "mimetype": "text/x-python",
   "name": "python",
   "nbconvert_exporter": "python",
   "pygments_lexer": "ipython3",
   "version": "3.11.7"
  }
 },
 "nbformat": 4,
 "nbformat_minor": 5
}
