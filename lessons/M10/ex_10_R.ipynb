{
 "cells": [
  {
   "cell_type": "code",
   "execution_count": null,
   "id": "97fab240-d38d-43cc-aa5a-2ad9c3cdec2a",
   "metadata": {},
   "outputs": [],
   "source": [
    "# Ex 10.1"
   ]
  },
  {
   "cell_type": "code",
   "execution_count": null,
   "id": "b923be58-bf83-471d-9dc8-5914fbcccd8a",
   "metadata": {},
   "outputs": [],
   "source": [
    "# Ex 10.2"
   ]
  },
  {
   "cell_type": "code",
   "execution_count": null,
   "id": "b5f14458-07de-456b-9819-87e5c5338092",
   "metadata": {},
   "outputs": [],
   "source": [
    "# Ex 10.3"
   ]
  },
  {
   "cell_type": "code",
   "execution_count": null,
   "id": "98aedc3d-c0b8-4782-8c2a-c8738f43dbe6",
   "metadata": {},
   "outputs": [],
   "source": [
    "# Ex 10.4"
   ]
  },
  {
   "cell_type": "code",
   "execution_count": null,
   "id": "39c74134-c180-4e42-8489-70379b22505f",
   "metadata": {},
   "outputs": [],
   "source": [
    "# Ex 10.5"
   ]
  },
  {
   "cell_type": "code",
   "execution_count": null,
   "id": "348c8934-ea0b-4037-8dd8-6a43ac64220b",
   "metadata": {},
   "outputs": [],
   "source": [
    "# Ex 10.6"
   ]
  },
  {
   "cell_type": "code",
   "execution_count": null,
   "id": "27bd466c-16a2-4aa8-bfa1-0035bf52f186",
   "metadata": {},
   "outputs": [],
   "source": [
    "# Ex 10.7"
   ]
  },
  {
   "cell_type": "code",
   "execution_count": null,
   "id": "5c27c387-f363-45cb-aaed-c0cc682ff1fb",
   "metadata": {},
   "outputs": [],
   "source": [
    "# Ex 10.8"
   ]
  },
  {
   "cell_type": "code",
   "execution_count": null,
   "id": "1177d8b3-f235-413d-9cc9-997bc17f5071",
   "metadata": {},
   "outputs": [],
   "source": [
    "# Ex 10.9"
   ]
  },
  {
   "cell_type": "code",
   "execution_count": null,
   "id": "d92ee01c-725d-4c87-b7c2-f8e2f7cc4f17",
   "metadata": {},
   "outputs": [],
   "source": [
    "# Ex 10.10"
   ]
  }
 ],
 "metadata": {
  "kernelspec": {
   "display_name": "Python 3 (ipykernel)",
   "language": "python",
   "name": "python3"
  },
  "language_info": {
   "codemirror_mode": {
    "name": "ipython",
    "version": 3
   },
   "file_extension": ".py",
   "mimetype": "text/x-python",
   "name": "python",
   "nbconvert_exporter": "python",
   "pygments_lexer": "ipython3",
   "version": "3.11.7"
  }
 },
 "nbformat": 4,
 "nbformat_minor": 5
}
