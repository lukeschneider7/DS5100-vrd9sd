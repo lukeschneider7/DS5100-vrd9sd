{
 "cells": [
  {
   "cell_type": "markdown",
   "id": "1329af4e-f680-4a93-bb16-e3892f98a152",
   "metadata": {},
   "source": [
    "### NB: Control Structures"
   ]
  },
  {
   "cell_type": "code",
   "execution_count": null,
   "id": "f20b3314-89b2-4508-81c1-a023b0b3a2eb",
   "metadata": {},
   "outputs": [],
   "source": []
  },
  {
   "cell_type": "markdown",
   "id": "2ddc9277-acd1-4b71-83a8-81adb465c17e",
   "metadata": {},
   "source": [
    "### NB: Iterables and Iterators"
   ]
  },
  {
   "cell_type": "code",
   "execution_count": 48,
   "id": "ef1aed85-78a7-4044-8ae2-781d7fc5cd65",
   "metadata": {},
   "outputs": [
    {
     "name": "stdout",
     "output_type": "stream",
     "text": [
      "fall :\tregression, python\n",
      "spring :\tcapstone, pyspark, nlp\n",
      "1. FALL:\n",
      "\t1.1. regression\n",
      "\t1.2. python\n",
      "2. SPRING:\n",
      "\t2.1. capstone\n",
      "\t2.2. pyspark\n",
      "\t2.3. nlp\n",
      "MSDS Summer daily workload of week 1: 1.5 hours\n",
      "MSDS Summer daily workload of week 2: 2.0 hours\n",
      "MSDS Summer daily workload of week 3: 2.5 hours\n",
      "MSDS Summer daily workload of week 4: 3.0 hours\n",
      "MSDS Summer daily workload of week 5: 3.5 hours\n",
      "MSDS Summer daily workload of week 6: 4.0 hours\n",
      "MSDS Summer daily workload of week 7: 4.5 hours\n",
      "MSDS Summer daily workload of week 8: 5.0 hours\n"
     ]
    }
   ],
   "source": [
    "# Iterate over Dictionary\n",
    "courses = {'fall':['regression','python'], 'spring':['capstone','pyspark','nlp']}\n",
    "for keys, values in courses.items():\n",
    "    print(f\"{keys} :\\t{', '.join(values)}\")\n",
    "\n",
    "# Nested Loops\n",
    "for i, semester in enumerate(courses):\n",
    "    print(f\"{i+1}. {semester.upper()}:\")\n",
    "    for j, course in enumerate(courses[semester]):\n",
    "        print(f\"\\t{i+1}.{j+1}. {course}\")\n",
    "\n",
    "# Ranges iterate known number of times\n",
    "for i in range(8):\n",
    "    print(f'MSDS Summer daily workload of week {i+1}: {(i*.5)+1.5} hours')"
   ]
  },
  {
   "cell_type": "markdown",
   "id": "fa054465-448b-497e-ae69-0ccc4f204d75",
   "metadata": {},
   "source": [
    "### NB Comprehensions"
   ]
  },
  {
   "cell_type": "code",
   "execution_count": null,
   "id": "1ba60e52-5433-4382-984f-7ac05689e431",
   "metadata": {},
   "outputs": [],
   "source": []
  }
 ],
 "metadata": {
  "kernelspec": {
   "display_name": "Python 3 (ipykernel)",
   "language": "python",
   "name": "python3"
  },
  "language_info": {
   "codemirror_mode": {
    "name": "ipython",
    "version": 3
   },
   "file_extension": ".py",
   "mimetype": "text/x-python",
   "name": "python",
   "nbconvert_exporter": "python",
   "pygments_lexer": "ipython3",
   "version": "3.11.7"
  }
 },
 "nbformat": 4,
 "nbformat_minor": 5
}
