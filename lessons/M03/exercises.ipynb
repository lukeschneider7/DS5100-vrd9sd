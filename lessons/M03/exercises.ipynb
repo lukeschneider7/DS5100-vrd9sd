{
 "cells": [
  {
   "cell_type": "code",
   "execution_count": 11,
   "id": "6f65f237-50d7-44d6-b634-ad745f1763c1",
   "metadata": {},
   "outputs": [
    {
     "name": "stdin",
     "output_type": "stream",
     "text": [
      "Enter a number -2\n"
     ]
    },
    {
     "name": "stdout",
     "output_type": "stream",
     "text": [
      "not in either bucket\n"
     ]
    }
   ],
   "source": [
    "# Example 3.1 - Bucket 3\n",
    "val = int(input(\"Enter a number\"))\n",
    "if -10<val<-5:\n",
    "    print(\"bucket 1\")\n",
    "elif -5 <= val< -2:\n",
    "    print(\"bucket 2\")\n",
    "else:\n",
    "    print(\"not in either bucket\")"
   ]
  },
  {
   "cell_type": "code",
   "execution_count": 19,
   "id": "9755cb15-3fc6-4a8c-9577-3ac86df75acd",
   "metadata": {},
   "outputs": [
    {
     "name": "stdout",
     "output_type": "stream",
     "text": [
      "2\n",
      "max_val\n",
      "0\n",
      "5\n",
      "6\n"
     ]
    }
   ],
   "source": [
    "# Ex 3.2\n",
    "xx = [2, 8, 0, 5, 6]\n",
    "max_val = max(xx)\n",
    "for value in xx:\n",
    "    if value < max_val:\n",
    "        print(value)\n",
    "    else:\n",
    "        print(\"max_val\")"
   ]
  },
  {
   "cell_type": "code",
   "execution_count": 25,
   "id": "09a586d6-1396-48a9-a861-cadff0ed3137",
   "metadata": {},
   "outputs": [
    {
     "name": "stdout",
     "output_type": "stream",
     "text": [
      "0\n",
      "10\n",
      "20\n",
      "30\n",
      "40\n",
      "50\n",
      "60\n",
      "70\n",
      "80\n",
      "90\n"
     ]
    }
   ],
   "source": [
    "# Ex 3.3\n",
    "it = 0\n",
    "max_iter = 100\n",
    "while it < max_iter:\n",
    "    if (it == 0) or (it % 10 == 0):\n",
    "        print(it)\n",
    "    it+=1"
   ]
  },
  {
   "cell_type": "code",
   "execution_count": 29,
   "id": "0484f060-589b-44a9-81d5-e4bdcba766a3",
   "metadata": {},
   "outputs": [
    {
     "name": "stdout",
     "output_type": "stream",
     "text": [
      "luke\n",
      "emily\n",
      "chris\n",
      "kate\n"
     ]
    }
   ],
   "source": [
    "# Ex 3.4\n",
    "four_names = [\"Luke\", 'Emily', 'Chris', 'Kate']\n",
    "for name in four_names:\n",
    "    print(name.lower())"
   ]
  },
  {
   "cell_type": "code",
   "execution_count": 31,
   "id": "49d6c9ce-9dfe-4031-8956-0e9a6e875458",
   "metadata": {},
   "outputs": [
    {
     "data": {
      "text/plain": [
       "'Luke'"
      ]
     },
     "execution_count": 31,
     "metadata": {},
     "output_type": "execute_result"
    }
   ],
   "source": [
    "# Ex 3.5\n",
    "iterable_four = iter(four_names)\n",
    "next(iterable_four)\n",
    "next(iterable_four)\n",
    "next(iterable_four)\n",
    "next(iterable_four)"
   ]
  },
  {
   "cell_type": "code",
   "execution_count": 47,
   "id": "e3b763bc-7f1b-4bd2-84c6-6749d4131af7",
   "metadata": {},
   "outputs": [
    {
     "name": "stdout",
     "output_type": "stream",
     "text": [
      "fairfax: 22032\n",
      "harrisonburg: 22801\n"
     ]
    }
   ],
   "source": [
    "# 3.8\n",
    "cities = {\"fairfax\": 22032,\n",
    "          \"harrisonburg\": 22801}\n",
    "for city, zip in cities.items():\n",
    "    print(f'{city}: {zip}')"
   ]
  },
  {
   "cell_type": "code",
   "execution_count": 53,
   "id": "80cf5978-f6b6-440b-ad72-ea89b8d87090",
   "metadata": {},
   "outputs": [
    {
     "name": "stdout",
     "output_type": "stream",
     "text": [
      "fairfax: 22032\n",
      "harrisonburg: 22801\n"
     ]
    }
   ],
   "source": [
    "# Ex 3.7\n",
    "for city in cities.keys():\n",
    "    print(f'{city}: {cities[city]}')"
   ]
  },
  {
   "cell_type": "code",
   "execution_count": 60,
   "id": "d505df20-4ef1-4b3a-9947-bd214111028b",
   "metadata": {},
   "outputs": [
    {
     "data": {
      "text/plain": [
       "[343, 27, 729, 0, 27, 216, 125, 343]"
      ]
     },
     "execution_count": 60,
     "metadata": {},
     "output_type": "execute_result"
    }
   ],
   "source": [
    "# 3.8\n",
    "num_values = [7,3,9, 0, 3, 6, 5, 7]\n",
    "cubed = [num**3 for num in num_values]\n",
    "cubed"
   ]
  },
  {
   "cell_type": "code",
   "execution_count": 69,
   "id": "42ee2f78-938c-413d-b32b-bca25159915d",
   "metadata": {},
   "outputs": [
    {
     "data": {
      "text/plain": [
       "['12', '4', '2', '9', '8']"
      ]
     },
     "execution_count": 69,
     "metadata": {},
     "output_type": "execute_result"
    }
   ],
   "source": [
    "# 3.9\n",
    "seven_strings = ['12', '4', 'three', 'zero', '2', '9', '8']\n",
    "num_strings = [thing for thing in seven_strings if thing.isdigit()]\n",
    "num_strings"
   ]
  },
  {
   "cell_type": "code",
   "execution_count": 96,
   "id": "6e020f6a-10ab-4e06-a5a6-33496e5703c2",
   "metadata": {},
   "outputs": [
    {
     "data": {
      "text/plain": [
       "{'max_depth': 7, 'max_width': 3}"
      ]
     },
     "execution_count": 96,
     "metadata": {},
     "output_type": "execute_result"
    }
   ],
   "source": [
    "# 3.10 - Check for string in \n",
    "grid = {'max_depth': 7,\n",
    "        'height': 4,\n",
    "        'max_width': 3}\n",
    "grid_max = {key : grid[key] for key in grid.keys() if 'max' in key}\n",
    "grid_max"
   ]
  }
 ],
 "metadata": {
  "kernelspec": {
   "display_name": "Python 3 (ipykernel)",
   "language": "python",
   "name": "python3"
  },
  "language_info": {
   "codemirror_mode": {
    "name": "ipython",
    "version": 3
   },
   "file_extension": ".py",
   "mimetype": "text/x-python",
   "name": "python",
   "nbconvert_exporter": "python",
   "pygments_lexer": "ipython3",
   "version": "3.11.7"
  }
 },
 "nbformat": 4,
 "nbformat_minor": 5
}
