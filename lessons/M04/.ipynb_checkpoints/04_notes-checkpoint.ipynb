{
 "cells": [
  {
   "cell_type": "markdown",
   "id": "b24bb979-84c6-4f81-bfde-634fe766ad8b",
   "metadata": {},
   "source": [
    "# 4: Python Functions "
   ]
  },
  {
   "cell_type": "markdown",
   "id": "7860fd2f-975b-40cd-9cd3-3715735dcf8a",
   "metadata": {},
   "source": [
    "## 4. Introduction to Functions"
   ]
  },
  {
   "cell_type": "code",
   "execution_count": 33,
   "id": "3a9c2bd9-3f65-47ad-bb82-e1a276a02c47",
   "metadata": {},
   "outputs": [],
   "source": [
    "# Take arguments for one or more function parameters\n",
    "\n",
    "# Example of Function with good docstring\n",
    "def multiplied(num_one, num_two):\n",
    "    \"\"\" Multiplies two numbers together  (*This is the docstring for this function)\n",
    "    Args: \n",
    "        num_one: (int) to multiply by num_two\n",
    "        num_two: (int) to multiply by num_one\n",
    "    \n",
    "    Returns:\n",
    "        mult: (int) two numbers multiplied \n",
    "    \"\"\"\n",
    "    mult = num_one * num_two\n",
    "    return mult\n",
    "    "
   ]
  },
  {
   "cell_type": "code",
   "execution_count": 23,
   "id": "9ae2f034-b765-4eb4-abf3-53e2bba3f05c",
   "metadata": {},
   "outputs": [
    {
     "name": "stdout",
     "output_type": "stream",
     "text": [
      "Help on function multiplied in module __main__:\n",
      "\n",
      "multiplied(num_one, num_two)\n",
      "    Multiplies two numbers together  (*This is the docstring for this function)\n",
      "    Args: \n",
      "        num_one: (int) to multiply by num_two\n",
      "        num_two: (int) to multiply by num_one\n",
      "    \n",
      "    Returns:\n",
      "        mult: (int) two numbers multiplied\n",
      "\n"
     ]
    }
   ],
   "source": [
    "# Calling a Docstring for a function\n",
    "help(multiplied) # or multiplied"
   ]
  },
  {
   "cell_type": "code",
   "execution_count": 29,
   "id": "464a3bcd-e092-4702-b589-1a81e3aea6f8",
   "metadata": {},
   "outputs": [
    {
     "name": "stdout",
     "output_type": "stream",
     "text": [
      "models          : ('logreg', 'naive_bayes', 'gbm')\n",
      "input arg type  : <class 'tuple'>\n",
      "input arg length: 3\n",
      "-----------------------------\n",
      "logreg\n",
      "naive_bayes\n",
      "gbm\n"
     ]
    }
   ],
   "source": [
    "# Unpacking list-likes with * args\n",
    "def show_arg_expansion(*models):\n",
    "    \n",
    "    print(\"models          :\", models)\n",
    "    print(\"input arg type  :\",  type(models))\n",
    "    print(\"input arg length:\", len(models))\n",
    "    print(\"-----------------------------\")\n",
    "    \n",
    "    for mod in models:\n",
    "        print(mod)   \n",
    "show_arg_expansion(\"logreg\", \"naive_bayes\", \"gbm\")"
   ]
  },
  {
   "cell_type": "markdown",
   "id": "6e0e0d78-2bcd-4193-b2af-b3154af0f4b2",
   "metadata": {},
   "source": [
    "### Default parameters\n",
    "* They must follow non-default parameters"
   ]
  },
  {
   "cell_type": "markdown",
   "id": "e9e58c6f-5f2d-4350-92ff-30a35cb98efd",
   "metadata": {},
   "source": [
    "### Returning Values\n",
    "* If no value returned functions return None, should still say return None \n"
   ]
  },
  {
   "cell_type": "markdown",
   "id": "53914ca6-e293-45e8-bbe0-38c31986a8b7",
   "metadata": {},
   "source": [
    "### Function Non-Negotiables\n",
    "* Design to do one thing (simple)\n",
    "* give function a good name\n",
    "* write a thorough docstring\n",
    "\n"
   ]
  },
  {
   "cell_type": "code",
   "execution_count": 49,
   "id": "b77e6508-0641-4810-8b52-295036cdd8c0",
   "metadata": {},
   "outputs": [
    {
     "name": "stdout",
     "output_type": "stream",
     "text": [
      "\n",
      "\n",
      "\n"
     ]
    }
   ],
   "source": [
    "print(\"\\n\\n\")\n"
   ]
  },
  {
   "cell_type": "markdown",
   "id": "7360cea1-2f43-493e-8cc3-0c3b0f6c71c0",
   "metadata": {},
   "source": [
    "## 4. Importing Functions"
   ]
  },
  {
   "cell_type": "code",
   "execution_count": 59,
   "id": "4aef9081-99cd-440c-b1df-ad330d9b670a",
   "metadata": {},
   "outputs": [
    {
     "name": "stdout",
     "output_type": "stream",
     "text": [
      "\n",
      "\n",
      "\n"
     ]
    }
   ],
   "source": [
    "# Use of function from library\n",
    "import random\n",
    "random.randint(1, 100) # this will return a random integer in the range 1-100\n",
    "\n",
    "# Specific import\n",
    "from random import random\n",
    "\n",
    "# Aliasing\n",
    "from pandas import read_csv as read_c\n",
    "\n",
    "print(\"\\n\\n\")"
   ]
  },
  {
   "cell_type": "markdown",
   "id": "3ac6d3ee-2641-434d-8ccd-73d5a9820fe6",
   "metadata": {},
   "source": [
    "## 4. Lambda Functions"
   ]
  },
  {
   "cell_type": "code",
   "execution_count": 64,
   "id": "e69cc006-c5cb-4551-916f-272bb2020be5",
   "metadata": {},
   "outputs": [
    {
     "data": {
      "text/plain": [
       "10"
      ]
     },
     "execution_count": 64,
     "metadata": {},
     "output_type": "execute_result"
    }
   ],
   "source": [
    "# Small informal function \n",
    "\n",
    "# Example of Lambda Functions\n",
    "lambda x: x*3 # multiplies arg by 3\n",
    "(lambda x: x+1)(5) # increments x by 1, passes argument of 6\n",
    "\n",
    "(lambda x, y: x + y)(3, 7) # Sums x and Y"
   ]
  },
  {
   "cell_type": "code",
   "execution_count": 93,
   "id": "734dfefa-af11-4dae-90e9-7de750ce1c96",
   "metadata": {},
   "outputs": [
    {
     "name": "stdout",
     "output_type": "stream",
     "text": [
      "{'two': ['three', 'five']}\n",
      "\n",
      "\n",
      "\n"
     ]
    }
   ],
   "source": [
    "# Can be Assigned to a Variable\n",
    "is_non_negative = lambda x: x >= 0\n",
    "is_non_negative(-9)\n",
    "\n",
    "# Write one to package first element of list and other data into dict\n",
    "dict_with_first = lambda x: {x[0]: x[1:]}\n",
    "print(dict_with_first(['two', 'three', 'five']))\n",
    "\n",
    "print(\"\\n\\n\")"
   ]
  },
  {
   "cell_type": "markdown",
   "id": "8e96cb32-aa2a-4735-a650-6783273d3be6",
   "metadata": {},
   "source": [
    "## 4. Recursion"
   ]
  },
  {
   "cell_type": "code",
   "execution_count": 118,
   "id": "c06a541e-c851-459b-8093-56df5190d597",
   "metadata": {},
   "outputs": [
    {
     "name": "stdout",
     "output_type": "stream",
     "text": [
      "CPU times: user 8 µs, sys: 1e+03 ns, total: 9 µs\n",
      "Wall time: 13.1 µs\n",
      "0\n",
      "2\n",
      "2\n",
      "4\n",
      "6\n",
      "10\n",
      "16\n",
      "26\n",
      "42\n",
      "68\n"
     ]
    }
   ],
   "source": [
    "def factorial(x):\n",
    "    \"Finds the factorial of an integer using recursion\"\n",
    "    if x == 1: # Base condition\n",
    "        return 1\n",
    "    else:\n",
    "        return x * factorial(x-1) # Recursive case\n",
    "\n",
    "%time factorial(5)\n",
    "\n",
    "\n",
    "def fibonnaci(n):\n",
    "    if n == 0:\n",
    "        return 0 # Base Case\n",
    "    elif n == 1:\n",
    "        return 2\n",
    "    else:\n",
    "        return fibonnaci(n-1) + fibonnaci(n-2) # Recursion\n",
    "\n",
    "for n in range (10):\n",
    "    print(fibonnaci(n))\n",
    "\n"
   ]
  },
  {
   "cell_type": "markdown",
   "id": "a2cc9aa7-fd7d-42b4-b2bd-18396cf39c8e",
   "metadata": {},
   "source": [
    "## 4. Variable Scope\n",
    "* If a variable is out of scope it cannot be used by that function\n",
    "* Indentation and variables define local vs global variables\n",
    "* Same name can be used if in different namespace\n",
    "\n",
    "<img src=\"namespace.png\" width=600>"
   ]
  },
  {
   "cell_type": "code",
   "execution_count": 129,
   "id": "13a02dc8-f47d-48d5-959e-a720538e5823",
   "metadata": {},
   "outputs": [
    {
     "name": "stdout",
     "output_type": "stream",
     "text": [
      "16\n"
     ]
    }
   ],
   "source": [
    "x = 10\n",
    "\n",
    "def scope_func1(a):\n",
    "    z = 3\n",
    "    out = x + a\n",
    "    return out\n",
    "\n",
    "print(scope_func1(6)) # Will work x is a global variable\n",
    "# print(z) # will not work local variable"
   ]
  },
  {
   "cell_type": "markdown",
   "id": "29787ba3-2d9b-465d-a14b-a42145d3afb0",
   "metadata": {},
   "source": [
    "## 4. Functions Calling Functions"
   ]
  },
  {
   "cell_type": "code",
   "execution_count": 137,
   "id": "c665b51f-3eaf-4be5-88a6-c19f11753750",
   "metadata": {},
   "outputs": [
    {
     "name": "stdin",
     "output_type": "stream",
     "text": [
      "Enter a temperature:  37 \n",
      "Enter the scale to convert to: (c or f)  f\n"
     ]
    },
    {
     "name": "stdout",
     "output_type": "stream",
     "text": [
      "37C is equal to 99F.\n"
     ]
    }
   ],
   "source": [
    "def f_to_c(temp):  \n",
    "    return round((temp - 32) * (5/9))\n",
    "\n",
    "\n",
    "def c_to_f(temp):  \n",
    "    return round(temp * (9/5) + 32)\n",
    "\n",
    "\n",
    "def convert(temp, scale): \n",
    "    if scale.lower() == \"c\":\n",
    "        return f_to_c(temp)  # function call to f_to_c\n",
    "    else:\n",
    "        return c_to_f(temp)  # function call to c_to_f\n",
    "\n",
    "\n",
    "def convert_app():\n",
    "    \"\"\"\n",
    "    Provides a user-interface to the the conversion functions.\n",
    "    \"\"\"\n",
    "    # Get user input\n",
    "    temp = int(input(\"Enter a temperature: \"))                \n",
    "    scale = input(\"Enter the scale to convert to: (c or f) \")[0].lower()\n",
    "    \n",
    "    # Infer source scale, to be used in the output message\n",
    "    if scale == 'c':\n",
    "        current_scale = 'f'\n",
    "    else:\n",
    "        current_scale = 'c'\n",
    "    \n",
    "    # Do the conversion\n",
    "    converted = convert(temp, scale)\n",
    "    \n",
    "    # Print results for user\n",
    "    print(f\"{temp}{current_scale.upper()} is equal to {converted}{scale.upper()}.\")\n",
    "\n",
    "convert_app()"
   ]
  },
  {
   "cell_type": "code",
   "execution_count": null,
   "id": "f8c031f0-aff4-4cf1-a4d8-1c70e7a6e3d3",
   "metadata": {},
   "outputs": [],
   "source": []
  }
 ],
 "metadata": {
  "kernelspec": {
   "display_name": "Python 3 (ipykernel)",
   "language": "python",
   "name": "python3"
  },
  "language_info": {
   "codemirror_mode": {
    "name": "ipython",
    "version": 3
   },
   "file_extension": ".py",
   "mimetype": "text/x-python",
   "name": "python",
   "nbconvert_exporter": "python",
   "pygments_lexer": "ipython3",
   "version": "3.11.7"
  }
 },
 "nbformat": 4,
 "nbformat_minor": 5
}
