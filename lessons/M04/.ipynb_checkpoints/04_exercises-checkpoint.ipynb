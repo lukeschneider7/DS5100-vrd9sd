{
 "cells": [
  {
   "cell_type": "code",
   "execution_count": 1,
   "id": "aec4f874-6c97-426b-9719-0feed10b8345",
   "metadata": {},
   "outputs": [
    {
     "data": {
      "text/plain": [
       "False"
      ]
     },
     "execution_count": 1,
     "metadata": {},
     "output_type": "execute_result"
    }
   ],
   "source": [
    "# Ex 4.1\n",
    "def len_equal_int(string1, int1):\n",
    "    \"\"\" Return True is len(string1) is equal to int1\n",
    "    Args:\n",
    "        string1: (str) string \n",
    "        int1: (int) to see string length\n",
    "    Returns:\n",
    "        bool: True if string length is equal to int1\n",
    "    \"\"\"\n",
    "    if len(string1) == (int1):\n",
    "        return True\n",
    "    else:\n",
    "        return False\n",
    "len_equal_int(\"is this text the right len?\", 30)"
   ]
  },
  {
   "cell_type": "code",
   "execution_count": 2,
   "id": "d6814603-2e8f-490f-93e0-e63841115a72",
   "metadata": {},
   "outputs": [
    {
     "name": "stdout",
     "output_type": "stream",
     "text": [
      "49\n",
      "16\n",
      "9\n"
     ]
    }
   ],
   "source": [
    "# Ex 4.2\n",
    "def square(*args):\n",
    "    for thing in args:\n",
    "        print(thing**2)\n",
    "        \n",
    "square(7, 4, 3)\n"
   ]
  },
  {
   "cell_type": "code",
   "execution_count": 3,
   "id": "f83840ab-3ad2-4459-81de-19d26f1d4abd",
   "metadata": {},
   "outputs": [
    {
     "name": "stdout",
     "output_type": "stream",
     "text": [
      "L3S\n"
     ]
    }
   ],
   "source": [
    "# Ex 4.3\n",
    "def word_shortener(string1):\n",
    "    \"\"\" Return string with first letter and last letter capitalized with the number or middle letter in between\n",
    "    Args:\n",
    "        string1: (str) string to shorten\n",
    "    Returns:\n",
    "        string_out: (str) shortened string\n",
    "    \"\"\"\n",
    "    \n",
    "    if type(string1) == str:\n",
    "        if len(string1) >= 2:\n",
    "            string_out = string1[0].upper() + str(len(string1)-2) + string1[-1].upper()\n",
    "            return string_out\n",
    "\n",
    "print(word_shortener(\"Lions\"))\n",
    "\n",
    "# Lambda version\n",
    "# get_shorty = lambda x: f'{x[0]}{len(x:1:-1}{x[-1]}'"
   ]
  },
  {
   "cell_type": "code",
   "execution_count": 4,
   "id": "743d4179-926d-49a6-9119-d11494fbb443",
   "metadata": {},
   "outputs": [
    {
     "data": {
      "text/plain": [
       "0"
      ]
     },
     "execution_count": 4,
     "metadata": {},
     "output_type": "execute_result"
    }
   ],
   "source": [
    "# Ex 4.4\n",
    "def sub_five_check_pos(num1):\n",
    "    value = num1 -5\n",
    "    if value > 0:\n",
    "        return 1\n",
    "    else:\n",
    "        return 0 \n",
    "\n",
    "sub_five_check_pos(7)\n",
    "sub_five_check_pos(3)"
   ]
  },
  {
   "cell_type": "code",
   "execution_count": 5,
   "id": "41c42563-7943-44c1-82dc-0c3c439913fc",
   "metadata": {},
   "outputs": [],
   "source": [
    "# Ex 4.5\n"
   ]
  },
  {
   "cell_type": "code",
   "execution_count": 6,
   "id": "cbf13e17-f58d-4690-967b-344caf4bb203",
   "metadata": {},
   "outputs": [],
   "source": [
    "# Ex 4.6"
   ]
  },
  {
   "cell_type": "code",
   "execution_count": 7,
   "id": "f00113aa-4c98-4c6a-8b03-7592963e5a26",
   "metadata": {},
   "outputs": [],
   "source": [
    "# Ex 4.7"
   ]
  },
  {
   "cell_type": "code",
   "execution_count": 8,
   "id": "48a9d950-5f2b-4d93-94eb-f44c08b2bbe1",
   "metadata": {},
   "outputs": [],
   "source": [
    "# Ex 4.8"
   ]
  }
 ],
 "metadata": {
  "kernelspec": {
   "display_name": "Python 3 (ipykernel)",
   "language": "python",
   "name": "python3"
  },
  "language_info": {
   "codemirror_mode": {
    "name": "ipython",
    "version": 3
   },
   "file_extension": ".py",
   "mimetype": "text/x-python",
   "name": "python",
   "nbconvert_exporter": "python",
   "pygments_lexer": "ipython3",
   "version": "3.11.7"
  }
 },
 "nbformat": 4,
 "nbformat_minor": 5
}
