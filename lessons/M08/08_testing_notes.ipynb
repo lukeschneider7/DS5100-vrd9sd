{
 "cells": [
  {
   "cell_type": "markdown",
   "id": "2320da3e-f7d6-4553-a7bb-99db3b0a6870",
   "metadata": {},
   "source": [
    "### Testing and Verification"
   ]
  },
  {
   "cell_type": "markdown",
   "id": "c855b79b-1729-4213-b8ba-787f456034cd",
   "metadata": {},
   "source": [
    "### Exception Handling"
   ]
  },
  {
   "cell_type": "code",
   "execution_count": 21,
   "id": "1bf4fa0c-c883-4998-bb0b-c309eafaf49b",
   "metadata": {},
   "outputs": [
    {
     "name": "stdout",
     "output_type": "stream",
     "text": [
      "2\n"
     ]
    },
    {
     "ename": "AssertionError",
     "evalue": "y must equal 4",
     "output_type": "error",
     "traceback": [
      "\u001b[0;31m---------------------------------------------------------------------------\u001b[0m",
      "\u001b[0;31mAssertionError\u001b[0m                            Traceback (most recent call last)",
      "Cell \u001b[0;32mIn[21], line 10\u001b[0m\n\u001b[1;32m      8\u001b[0m \u001b[38;5;66;03m# Using Assert Statements\u001b[39;00m\n\u001b[1;32m      9\u001b[0m y \u001b[38;5;241m=\u001b[39m \u001b[38;5;241m4\u001b[39m\n\u001b[0;32m---> 10\u001b[0m \u001b[38;5;28;01massert\u001b[39;00m y \u001b[38;5;241m==\u001b[39m \u001b[38;5;241m3\u001b[39m, \u001b[38;5;124m\"\u001b[39m\u001b[38;5;124my must equal 4\u001b[39m\u001b[38;5;124m\"\u001b[39m\n\u001b[1;32m     12\u001b[0m \u001b[38;5;66;03m# 'raise' exception\u001b[39;00m\n\u001b[1;32m     13\u001b[0m z  \u001b[38;5;241m=\u001b[39m [\u001b[38;5;241m1\u001b[39m, \u001b[38;5;241m2\u001b[39m, \u001b[38;5;241m3\u001b[39m]\n",
      "\u001b[0;31mAssertionError\u001b[0m: y must equal 4"
     ]
    }
   ],
   "source": [
    "# Try/Except method to handle exception\n",
    "x = 2\n",
    "try:\n",
    "    print(x)\n",
    "except:\n",
    "   print(\"caught an exception\")\n",
    "\n",
    "# Using Assert Statements\n",
    "y = 4\n",
    "assert y == 3, \"y must equal 4\"\n",
    "\n",
    "# 'raise' exception\n",
    "z  = [1, 2, 3]\n",
    "try:\n",
    "    for i in range(4):\n",
    "        print(z[i])\n",
    "except:\n",
    "    raise IndexError(\"index list out of range\")"
   ]
  },
  {
   "cell_type": "markdown",
   "id": "b989f0b9-0656-41c6-a453-5525b08e76c5",
   "metadata": {},
   "source": [
    "### Unit Testing\n",
    "* Test units of code (usually functions or methods)\n",
    "* unittest framework has methods that are wrapper for assert"
   ]
  },
  {
   "cell_type": "code",
   "execution_count": null,
   "id": "fd01a3e2-2156-4f4a-94c3-828d570d9077",
   "metadata": {},
   "outputs": [],
   "source": [
    "### student.py file\n",
    "\n",
    "class Student:\n",
    "    \n",
    "    # constructor\n",
    "    def __init__(self, name, courses=None):\n",
    "        self.name = name # string type\n",
    "        self.courses = [] if courses is None else courses # list of strings\n",
    "        self.num_courses = len(self.courses)\n",
    "        \n",
    "    # enroll in a course\n",
    "    def enroll_in_course(self, course_name): \n",
    "        self.courses.append(course_name)\n",
    "        self.num_courses += 1 # increment the number of courses"
   ]
  },
  {
   "cell_type": "code",
   "execution_count": null,
   "id": "2a008410-2e97-4268-b188-d29eb983b3c8",
   "metadata": {},
   "outputs": [],
   "source": [
    "### student_test.py file \n",
    "\n",
    "from student import Student\n",
    "import unittest\n",
    "\n",
    "class EnrollInTestCase(unittest.TestCase): \n",
    "    \n",
    "    def test_is_incremented_correctly(self):\n",
    "        # test if enrollInCourse() method successfully increments the\n",
    "        # num_courses attribute of the Student object \n",
    "\n",
    "        # Create student instance, adding some courses\n",
    "        student1 = Student('Katherine', ['DS 5100'])\n",
    "        student1.enroll_in_course(\"CS 5050\")\n",
    "        student1.enroll_in_course(\"CS 5777\")\n",
    "        print(student1.courses)\n",
    "        print(student1.num_courses)\n",
    "        \n",
    "        # Test\n",
    "        expected = 3\n",
    "        # unittest.TestCase brings in the assertEqual() method\n",
    "        self.assertEqual(student1.num_courses, expected)\n",
    "        \n",
    "if __name__ == '__main__':\n",
    "    unittest.main(verbosity=2)"
   ]
  },
  {
   "cell_type": "code",
   "execution_count": null,
   "id": "7927d878-af54-4c0c-b2e1-3a291ad1ceb1",
   "metadata": {},
   "outputs": [],
   "source": []
  }
 ],
 "metadata": {
  "kernelspec": {
   "display_name": "Python 3 (ipykernel)",
   "language": "python",
   "name": "python3"
  },
  "language_info": {
   "codemirror_mode": {
    "name": "ipython",
    "version": 3
   },
   "file_extension": ".py",
   "mimetype": "text/x-python",
   "name": "python",
   "nbconvert_exporter": "python",
   "pygments_lexer": "ipython3",
   "version": "3.11.7"
  }
 },
 "nbformat": 4,
 "nbformat_minor": 5
}
