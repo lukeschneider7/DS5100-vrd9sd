{
 "cells": [
  {
   "cell_type": "code",
   "execution_count": 42,
   "id": "973758f4-fdb8-4f4b-a09e-b4405b16876f",
   "metadata": {},
   "outputs": [
    {
     "name": "stdin",
     "output_type": "stream",
     "text": [
      "enter a number 7\n"
     ]
    },
    {
     "ename": "TypeError",
     "evalue": "unsupported operand type(s) for /: 'str' and 'int'",
     "output_type": "error",
     "traceback": [
      "\u001b[0;31m---------------------------------------------------------------------------\u001b[0m",
      "\u001b[0;31mTypeError\u001b[0m                                 Traceback (most recent call last)",
      "Cell \u001b[0;32mIn[42], line 4\u001b[0m\n\u001b[1;32m      2\u001b[0m x \u001b[38;5;241m=\u001b[39m \u001b[38;5;28minput\u001b[39m(\u001b[38;5;124m'\u001b[39m\u001b[38;5;124menter a number\u001b[39m\u001b[38;5;124m'\u001b[39m)\n\u001b[1;32m      3\u001b[0m \u001b[38;5;28;01mtry\u001b[39;00m:\n\u001b[0;32m----> 4\u001b[0m     \u001b[38;5;28mprint\u001b[39m(x\u001b[38;5;241m/\u001b[39m\u001b[38;5;241m0\u001b[39m)\n\u001b[1;32m      5\u001b[0m \u001b[38;5;28;01mexcept\u001b[39;00m \u001b[38;5;167;01mZeroDivisionError\u001b[39;00m \u001b[38;5;28;01mas\u001b[39;00m e:\n\u001b[1;32m      6\u001b[0m     \u001b[38;5;28mprint\u001b[39m(\u001b[38;5;124m'\u001b[39m\u001b[38;5;124mcannot divide by zero\u001b[39m\u001b[38;5;124m'\u001b[39m, e)\n",
      "\u001b[0;31mTypeError\u001b[0m: unsupported operand type(s) for /: 'str' and 'int'"
     ]
    }
   ],
   "source": [
    "# 8.1 \n",
    "x = input('enter a number')\n",
    "try:\n",
    "    print(x/0)\n",
    "except ZeroDivisionError as e:\n",
    "    print('cannot divide by zero', e)"
   ]
  },
  {
   "cell_type": "code",
   "execution_count": 14,
   "id": "953251cf-8aca-400a-8387-5172628a090b",
   "metadata": {},
   "outputs": [
    {
     "ename": "AssertionError",
     "evalue": "y equals x",
     "output_type": "error",
     "traceback": [
      "\u001b[0;31m---------------------------------------------------------------------------\u001b[0m",
      "\u001b[0;31mAssertionError\u001b[0m                            Traceback (most recent call last)",
      "Cell \u001b[0;32mIn[14], line 7\u001b[0m\n\u001b[1;32m      5\u001b[0m o \u001b[38;5;241m=\u001b[39m y \u001b[38;5;241m!=\u001b[39m x\n\u001b[1;32m      6\u001b[0m \u001b[38;5;28;01massert\u001b[39;00m o, \u001b[38;5;124m'\u001b[39m\u001b[38;5;124my does no equal x\u001b[39m\u001b[38;5;124m'\u001b[39m\n\u001b[0;32m----> 7\u001b[0m \u001b[38;5;28;01massert\u001b[39;00m n, \u001b[38;5;124m'\u001b[39m\u001b[38;5;124my equals x\u001b[39m\u001b[38;5;124m'\u001b[39m\n",
      "\u001b[0;31mAssertionError\u001b[0m: y equals x"
     ]
    }
   ],
   "source": [
    "# 8.2\n",
    "x=7\n",
    "y=8\n",
    "n = y == x\n",
    "o = y != x\n",
    "assert o, 'y equals x'\n",
    "assert n, 'y does not equals x'"
   ]
  },
  {
   "cell_type": "code",
   "execution_count": 40,
   "id": "4d09e351-72d1-40cd-8530-cdfa6c9a3f61",
   "metadata": {},
   "outputs": [],
   "source": [
    "# 8.3\n",
    "import math\n",
    "def area(radius):\n",
    "    area = math.pi * (radius **2)\n",
    "    return area\n",
    "    \n",
    "assert type(area(1)) == float, 'type area(1) not a float'\n",
    "assert area(0) == 0, 'area not equal to 0'\n",
    "assert math.isclose(area(4), 78.5, abs_tol=.1), 'value not close to 78.5'\n"
   ]
  },
  {
   "cell_type": "code",
   "execution_count": null,
   "id": "c676c1bd-4552-458f-92ee-95b90a05d7f3",
   "metadata": {},
   "outputs": [],
   "source": [
    "# 8.4 "
   ]
  },
  {
   "cell_type": "code",
   "execution_count": 71,
   "id": "31fe5d3d-68cc-429d-8c4a-6e85c73abbdd",
   "metadata": {},
   "outputs": [],
   "source": [
    "# 8.5\n",
    "class Car:\n",
    "    body_type = ['suv', 'crossover', 'sedan', 'hatchback', 'sport']\n",
    "    engine_type = ['electric', 'gas', 'diesel', 'sport']\n",
    "    \n",
    "    def __init__(self, body_type, engine_type):\n",
    "        if body_type not in self.body_type:\n",
    "            raise ValueError(\"not in list\")\n",
    "        if engine_type not in self.engine_type:\n",
    "            raise ValueError(\"not in list\")\n",
    "        self.body_type = body_type\n",
    "        self.engine_type = engine_type\n",
    "   \n",
    "    def describe_car(self):\n",
    "        return f'{self.engine_type} {self.body_type}'\n",
    "    \n",
    "\n",
    "\n",
    "class Subaru(Car):\n",
    "    def __init__(self, body_type, engine_type, year, model, trim=None):\n",
    "        self.year =  year\n",
    "        self.model = model\n",
    "        self.trim = trim\n",
    "        Car.__init__(self, body_type, engine_type)\n",
    "\n",
    "    def describe(self):\n",
    "        return f'{self.year}{self.model}{self.trim}({self.describe_car()})'\n",
    "\n",
    "\n",
    "my_args = dict(\n",
    "                body_type = 'crossover',\n",
    "                engine_type = 'gas',\n",
    "                year = '2022',\n",
    "                model = 'outback',\n",
    "                trim ='sport')\n",
    "my_car= Subaru(**my_args)\n",
    "my_car.describe()\n",
    "\n",
    "try:\n",
    "    my_car = Subaru(**my_args)\n",
    "except ValueError as e:\n",
    "    print(e)"
   ]
  },
  {
   "cell_type": "code",
   "execution_count": null,
   "id": "c7f7e914-4532-4c7b-bb20-9220e8936669",
   "metadata": {},
   "outputs": [],
   "source": [
    "# 8.6 "
   ]
  },
  {
   "cell_type": "code",
   "execution_count": null,
   "id": "4f3895fa-57ce-4a9b-97c3-922729ff7096",
   "metadata": {},
   "outputs": [],
   "source": [
    "# 8.7 "
   ]
  },
  {
   "cell_type": "code",
   "execution_count": null,
   "id": "b300fb93-7f7a-4851-a1a7-3b77d733fd21",
   "metadata": {},
   "outputs": [],
   "source": [
    "# 8.8"
   ]
  },
  {
   "cell_type": "code",
   "execution_count": null,
   "id": "899c42ab-201e-4e86-8c27-136c8e5849af",
   "metadata": {},
   "outputs": [],
   "source": [
    "# 8.9"
   ]
  },
  {
   "cell_type": "code",
   "execution_count": null,
   "id": "d160766c-8817-425a-989c-c1e79782d40e",
   "metadata": {},
   "outputs": [],
   "source": []
  }
 ],
 "metadata": {
  "kernelspec": {
   "display_name": "Python 3 (ipykernel)",
   "language": "python",
   "name": "python3"
  },
  "language_info": {
   "codemirror_mode": {
    "name": "ipython",
    "version": 3
   },
   "file_extension": ".py",
   "mimetype": "text/x-python",
   "name": "python",
   "nbconvert_exporter": "python",
   "pygments_lexer": "ipython3",
   "version": "3.11.7"
  }
 },
 "nbformat": 4,
 "nbformat_minor": 5
}
