{
 "cells": [
  {
   "cell_type": "markdown",
   "id": "bbea800c-241d-42b4-a744-ecaffe13959e",
   "metadata": {},
   "source": [
    "# Metadata\n",
    "\n",
    "```yaml\n",
    "Course:  DS 5100\n",
    "Module:  09 Python Packages\n",
    "Topic:   HW Package Booklover\n",
    "Author:  R.C. Alvarado (adapted)\n",
    "Date:    7 July 2023 (revised)\n",
    "```"
   ]
  },
  {
   "cell_type": "markdown",
   "id": "36f46fdd-2405-4dc8-9ea1-33f395e56cc0",
   "metadata": {},
   "source": [
    "# Student Info\n",
    "\n",
    "* Name: Luke Schneider\n",
    "* Net UD: vrd9sd\n",
    "* URL of this file in GitHub:"
   ]
  },
  {
   "cell_type": "markdown",
   "id": "375875a8-1503-46eb-8ea1-7e5bf39b5c41",
   "metadata": {},
   "source": [
    "# Instructions\n",
    "\n",
    "In your **private course repo on Rivanna**, use this Jupyter notebook and the data file described to write code that performs the tasks below. \n",
    "\n",
    "Save your notebook in the `M09` directory.\n",
    "\n",
    "Remember to add and commit these files to your repo. \n",
    "\n",
    "Then push your commits to your repo on GitHib.\n",
    "\n",
    "Be sure to fill out the **Student Info** block above.\n",
    "\n",
    "To submit your homework, save your results as a PDF and upload it to GradeScope. More information about how to create the PDF for this assignment are included at the end of this document.\n",
    "\n",
    "**TOTAL POINTS: 8**"
   ]
  },
  {
   "cell_type": "markdown",
   "id": "1baf08dc-35fe-44f1-bc26-7e1130ee993e",
   "metadata": {},
   "source": [
    "# Overview\n",
    "\n",
    "Follow the following recipe we used in class to package the code you wrote for `HW08` -- `booklover.py` and `booklover_test.py`.\n",
    "\n",
    "* Create a new git repo for your package.\n",
    "* Create and edit the required files and directories for your package and move the booklover modules there.\n",
    "* Stage, commit, and push all the files you've created.\n",
    "* Install your package with pip.\n",
    "* Outside of your package dir, write a script to test your method.\n",
    "\n",
    "Put this notebook in your repo. This will allow you to execute bash commands and capture the outpunt directly in the notebook.\n",
    "\n",
    "**TOTAL: 8 POINTS**"
   ]
  },
  {
   "cell_type": "markdown",
   "id": "6e39ba79-49ee-41e8-9e49-23d9d6bac2e0",
   "metadata": {
    "tags": []
   },
   "source": [
    "# Tasks"
   ]
  },
  {
   "cell_type": "markdown",
   "id": "fb11de14",
   "metadata": {},
   "source": [
    "## Task 1\n",
    "\n",
    "(5 points)\n",
    "\n",
    "Show the directory structure of your repo by running this command from the root of your repo:"
   ]
  },
  {
   "cell_type": "raw",
   "id": "fc1449df-e5f2-441f-9e5d-a74214fdcdac",
   "metadata": {},
   "source": [
    "### Task 1 Answer\n",
    "ls -lR\n",
    "total 16\n",
    "-rw-r--r--  1 luke  staff  1071 Jul  2 11:59 LICENSE\n",
    "-rw-r--r--  1 luke  staff    50 Jul  2 11:59 README.md\n",
    "drwxr-xr-x  6 luke  staff   192 Jul  2 12:02 package\n",
    "-rw-r--r--  1 luke  staff     0 Jul  2 12:00 setup.py\n",
    "\n",
    "./package:\n",
    "total 24\n",
    "-rw-r--r--  1 luke  staff     0 Jul  2 12:02 __init__.py\n",
    "-rw-r--r--  1 luke  staff  1465 Jul  2 12:04 booklover.py\n",
    "-rw-r--r--  1 luke  staff   526 Jul  1 15:11 booklover_results.txt\n",
    "-rw-r--r--  1 luke  staff  2612 Jul  1 15:19 booklover_test.py"
   ]
  },
  {
   "cell_type": "markdown",
   "id": "2afedecb-f9ce-498d-aa8b-e2f936602210",
   "metadata": {},
   "source": [
    "## Task 2\n",
    "\n",
    "(1 point)\n",
    "\n",
    "Put the URL of your GitHub repo here. Just paste it into a Markdown cell."
   ]
  },
  {
   "cell_type": "markdown",
   "id": "4d09d889-6104-4f20-b31c-2d8a72b17693",
   "metadata": {},
   "source": [
    "URL: https://github.com/lukeschneider7/hw08repo "
   ]
  },
  {
   "cell_type": "markdown",
   "id": "f989dcd1-b1d2-4eb9-8ef6-8ca2d8495260",
   "metadata": {
    "lines_to_next_cell": 0
   },
   "source": [
    "## Task 3\n",
    "\n",
    "(1 point)\n",
    "\n",
    "Show the results of installing your package.\n",
    "\n",
    "```bash\n",
    "!pip install -e .\n",
    "```"
   ]
  },
  {
   "cell_type": "raw",
   "id": "e3764c75-9ccd-4af4-b924-f6846d035ff9",
   "metadata": {},
   "source": [
    "(.venv) (base) luke@Lukes-MacBook-Pro hw08repo % pip install -e .\n",
    "Obtaining file:///Users/luke/Downloads/hw08repo\n",
    "  Preparing metadata (setup.py) ... done\n",
    "Requirement already satisfied: pandas>=1.11.1 in ./.venv/lib/python3.11/site-packages (from package==1.0.0) (2.2.2)\n",
    "Requirement already satisfied: numpy>=1.23.2 in ./.venv/lib/python3.11/site-packages (from pandas>=1.11.1->package==1.0.0) (2.0.0)\n",
    "Requirement already satisfied: python-dateutil>=2.8.2 in ./.venv/lib/python3.11/site-packages (from pandas>=1.11.1->package==1.0.0) (2.9.0.post0)\n",
    "Requirement already satisfied: pytz>=2020.1 in ./.venv/lib/python3.11/site-packages (from pandas>=1.11.1->package==1.0.0) (2024.1)\n",
    "Requirement already satisfied: tzdata>=2022.7 in ./.venv/lib/python3.11/site-packages (from pandas>=1.11.1->package==1.0.0) (2024.1)\n",
    "Requirement already satisfied: six>=1.5 in ./.venv/lib/python3.11/site-packages (from python-dateutil>=2.8.2->pandas>=1.11.1->package==1.0.0) (1.16.0)\n",
    "Installing collected packages: package\n",
    "  Running setup.py develop for package\n",
    "Successfully installed package-1.0.0 "
   ]
  },
  {
   "cell_type": "markdown",
   "id": "5b1a642e-74f0-43ff-97a3-9ddc7553978e",
   "metadata": {},
   "source": [
    "## Task 4\n",
    "\n",
    "(1 point)\n",
    "\n",
    "Create a file outside your repo to test your package by running it.\n",
    "\n",
    "To do this, import the package into your file and create a BookLover object.\n",
    "\n",
    "Then add a book and then print number books read.\n",
    "\n",
    "Then run the file. \n",
    "\n",
    "Show the output of running the file below, using a command like the following:\n",
    "\n",
    "```bash\n",
    "!python ../book_lover_demo.py\n",
    "```"
   ]
  },
  {
   "cell_type": "code",
   "execution_count": null,
   "id": "5924fca8-6483-4f2b-a33f-6550d1726d6e",
   "metadata": {},
   "outputs": [],
   "source": [
    "# booklover_demo_py\n",
    "from hw08repo.package.booklover import BookLover\n",
    "book1 = BookLover('Luke', 'vrd9sd', 'scifi')\n",
    "book1.add_book(\"lord of the rings\", 2)\n",
    "book1.add_book(\"The Hobbit\", 3)\n",
    "print(book1.num_books_read())"
   ]
  },
  {
   "cell_type": "raw",
   "id": "d73bc4d4-231c-49eb-9126-bc6ab80f07fb",
   "metadata": {},
   "source": [
    "!python book_lover_demo.py\n",
    "python book_lover_demo.py book_lover_demo.py book_lover_demo.py\n",
    "2"
   ]
  }
 ],
 "metadata": {
  "jupytext": {
   "cell_metadata_filter": "-all",
   "main_language": "bash",
   "notebook_metadata_filter": "-all"
  },
  "kernelspec": {
   "display_name": "Python 3 (ipykernel)",
   "language": "python",
   "name": "python3"
  },
  "language_info": {
   "codemirror_mode": {
    "name": "ipython",
    "version": 3
   },
   "file_extension": ".py",
   "mimetype": "text/x-python",
   "name": "python",
   "nbconvert_exporter": "python",
   "pygments_lexer": "ipython3",
   "version": "3.11.7"
  },
  "vscode": {
   "interpreter": {
    "hash": "c3b963de08c47c3b6758389c5e0978ad73698a111eb508d4e16b558edb8f4cbf"
   }
  },
  "widgets": {
   "application/vnd.jupyter.widget-state+json": {
    "state": {},
    "version_major": 2,
    "version_minor": 0
   }
  }
 },
 "nbformat": 4,
 "nbformat_minor": 5
}
